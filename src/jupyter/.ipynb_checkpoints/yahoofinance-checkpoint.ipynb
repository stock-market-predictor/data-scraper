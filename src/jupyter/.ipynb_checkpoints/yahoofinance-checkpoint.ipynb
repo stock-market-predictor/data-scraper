{
 "cells": [
  {
   "cell_type": "code",
   "execution_count": 1,
   "metadata": {},
   "outputs": [
    {
     "ename": "ModuleNotFoundError",
     "evalue": "No module named 'bs4'",
     "output_type": "error",
     "traceback": [
      "\u001b[0;31m---------------------------------------------------------------------------\u001b[0m",
      "\u001b[0;31mModuleNotFoundError\u001b[0m                       Traceback (most recent call last)",
      "\u001b[0;32m<ipython-input-1-c78834c3a786>\u001b[0m in \u001b[0;36m<module>\u001b[0;34m\u001b[0m\n\u001b[0;32m----> 1\u001b[0;31m \u001b[0;32mfrom\u001b[0m \u001b[0mbs4\u001b[0m \u001b[0;32mimport\u001b[0m \u001b[0mBeautifulSoup\u001b[0m\u001b[0;34m\u001b[0m\u001b[0;34m\u001b[0m\u001b[0m\n\u001b[0m\u001b[1;32m      2\u001b[0m \u001b[0;32mimport\u001b[0m \u001b[0murllib\u001b[0m\u001b[0;34m\u001b[0m\u001b[0;34m\u001b[0m\u001b[0m\n\u001b[1;32m      3\u001b[0m \u001b[0;32mimport\u001b[0m \u001b[0mre\u001b[0m\u001b[0;34m\u001b[0m\u001b[0;34m\u001b[0m\u001b[0m\n\u001b[1;32m      4\u001b[0m \u001b[0;32mimport\u001b[0m \u001b[0mspacy\u001b[0m\u001b[0;34m\u001b[0m\u001b[0;34m\u001b[0m\u001b[0m\n\u001b[1;32m      5\u001b[0m \u001b[0;32mimport\u001b[0m  \u001b[0mpandas\u001b[0m \u001b[0;32mas\u001b[0m \u001b[0mpd\u001b[0m\u001b[0;34m\u001b[0m\u001b[0;34m\u001b[0m\u001b[0m\n",
      "\u001b[0;31mModuleNotFoundError\u001b[0m: No module named 'bs4'"
     ]
    }
   ],
   "source": [
    "from bs4 import BeautifulSoup\n",
    "import urllib\n",
    "import re\n",
    "import spacy\n",
    "import  pandas as pd\n",
    "import numpy as np\n",
    "import sklearn as sk\n",
    "import matplotlib.pyplot as plt\n",
    "import seaborn as sns\n",
    "from  spacy.lang.en.stop_words import STOP_WORDS\n",
    "from newspaper import Article\n",
    "import en_core_web_sm"
   ]
  },
  {
   "cell_type": "code",
   "execution_count": null,
   "metadata": {},
   "outputs": [],
   "source": [
    "html_page = urllib.request.urlopen(\"https://finance.yahoo.com/news\")\n",
    "soup = BeautifulSoup(html_page)\n"
   ]
  },
  {
   "cell_type": "code",
   "execution_count": null,
   "metadata": {},
   "outputs": [],
   "source": [
    "returnlist = []\n",
    "for link in soup.findAll('a'):\n",
    "    if link.get('href')[0:5] == '/news':\n",
    "        \n",
    "        returnlist.append('https://finance.yahoo.com' + link.get('href'))\n"
   ]
  },
  {
   "cell_type": "code",
   "execution_count": null,
   "metadata": {
    "scrolled": true
   },
   "outputs": [],
   "source": [
    "for i in returnlist:\n",
    "    print(i)"
   ]
  },
  {
   "cell_type": "code",
   "execution_count": 34,
   "metadata": {},
   "outputs": [],
   "source": [
    "url = returnlist[0]\n",
    "article = Article(url)\n",
    "article.download()\n",
    "article.parse()\n",
    "article.nlp()"
   ]
  },
  {
   "cell_type": "code",
   "execution_count": 45,
   "metadata": {},
   "outputs": [
    {
     "data": {
      "text/plain": [
       "['points',\n",
       " 'results',\n",
       " 'live',\n",
       " 'heavy',\n",
       " 'set',\n",
       " 'open',\n",
       " 'earnings',\n",
       " 'week',\n",
       " 'rose',\n",
       " 'york',\n",
       " 'johnson',\n",
       " 'futures',\n",
       " 'stock',\n",
       " 'updates',\n",
       " 'higher',\n",
       " 'house',\n",
       " 'market']"
      ]
     },
     "execution_count": 45,
     "metadata": {},
     "output_type": "execute_result"
    }
   ],
   "source": [
    "article.keywords"
   ]
  },
  {
   "cell_type": "code",
   "execution_count": 49,
   "metadata": {},
   "outputs": [],
   "source": [
    "nlp = en_core_web_sm.load()\n"
   ]
  },
  {
   "cell_type": "code",
   "execution_count": 50,
   "metadata": {},
   "outputs": [],
   "source": [
    "stopwords = list(STOP_WORDS)"
   ]
  },
  {
   "cell_type": "code",
   "execution_count": 53,
   "metadata": {},
   "outputs": [],
   "source": [
    "doc = nlp(article.text)"
   ]
  },
  {
   "cell_type": "code",
   "execution_count": 58,
   "metadata": {},
   "outputs": [
    {
     "name": "stdout",
     "output_type": "stream",
     "text": [
      "Sunday DATE\n",
      "evening TIME\n",
      "last week DATE\n",
      "Dow ORG\n",
      "third ORDINAL\n",
      "weekly DATE\n",
      "the week DATE\n",
      "months DATE\n",
      "the weekend DATE\n",
      "US GPE\n",
      "140,000 CARDINAL\n",
      "Florida GPE\n",
      "more than 10,000 CARDINAL\n",
      "a fifth straight day DATE\n",
      "Sunday DATE\n",
      "California GPE\n",
      "more than 9,300 CARDINAL\n",
      "8,487 CARDINAL\n",
      "the prior two weeks DATE\n",
      "Texas GPE\n",
      "7,300 CARDINAL\n",
      "Sunday DATE\n",
      "10,000 mark MONEY\n",
      "first ORDINAL\n",
      "July 13 DATE\n",
      "Congress ORG\n",
      "a more than two-week CARDINAL\n",
      "Monday DATE\n",
      "White House ORG\n",
      "Mark Meadows PERSON\n",
      "Fox News ORG\n",
      "Sunday DATE\n",
      "the White House FAC\n",
      "the start of this week DATE\n",
      "Senate ORG\n",
      "Mitch McConnell PERSON\n",
      "Treasury ORG\n",
      "Steven Mnuchin PERSON\n",
      "House ORG\n",
      "Republican NORP\n",
      "Kevin McCarthy PERSON\n",
      "Tuesday DATE\n",
      "Merck ORG\n",
      "MRK ORG\n",
      "Moderna PERSON\n",
      "Pfizer PERSON\n",
      "AstraZeneca ORG\n",
      "AZN ORG\n",
      "Johnson & Johnson ORG\n",
      "July 21 DATE\n",
      "the House Committee of Energy and Commerce ORG\n",
      "quarterly DATE\n",
      "this week DATE\n",
      "about one-quarter CARDINAL\n",
      "the coming week DATE\n",
      "one CARDINAL\n",
      "the heaviest weeks DATE\n",
      "this quarter DATE\n",
      "About 13.4% PERCENT\n",
      "second-quarter DATE\n",
      "Netflix ORG\n",
      "NFLX ORG\n",
      "Johnson & Johnson ORG\n",
      "last week DATE\n",
      "Second-quarter DATE\n",
      "the same quarter last year DATE\n",
      "Credit Suisse ORG\n",
      "Jonathan Golub PERSON\n",
      "Friday DATE\n",
      "+13.0% PERCENT\n",
      "more than any quarter since 1Q10 DATE\n",
      "Monday DATE\n",
      "Halliburton PERSON\n",
      "Lennox International ORG\n",
      "LII ORG\n",
      "6:04 p.m. ET TIME\n",
      "Sunday DATE\n",
      "overnight TIME\n",
      "the start of the overnight TIME\n",
      "U.S. GPE\n",
      "6:04 p.m. ET TIME\n",
      "3,214.75 CARDINAL\n",
      "0.75 CARDINAL\n",
      "0.02% PERCENT\n",
      "YM ORG\n",
      "18 CARDINAL\n",
      "0.07% PERCENT\n",
      "12.75 CARDINAL\n",
      "0.12% PERCENT\n",
      "NEW YORK GPE\n",
      "NEW YORK GPE\n",
      "the New York Stock Exchange ORG\n",
      "NYSE ORG\n",
      "the first day DATE\n",
      "May 26, 2020 DATE\n",
      "New York City GPE\n",
      "Dow ORG\n",
      "over 600 CARDINAL\n",
      "morning TIME\n",
      "America GPE\n",
      "Spencer Platt/Getty Images PERSON\n",
      "Yahoo Finance ORG\n",
      "Facebook GPE\n",
      "Instagram PERSON\n",
      "Flipboard GPE\n",
      "LinkedIn ORG\n"
     ]
    }
   ],
   "source": [
    "for entity in doc.ents:\n",
    "    print(entity.text, entity.label_)"
   ]
  },
  {
   "cell_type": "code",
   "execution_count": null,
   "metadata": {},
   "outputs": [],
   "source": []
  }
 ],
 "metadata": {
  "kernelspec": {
   "display_name": "Python 3",
   "language": "python",
   "name": "python3"
  },
  "language_info": {
   "codemirror_mode": {
    "name": "ipython",
    "version": 3
   },
   "file_extension": ".py",
   "mimetype": "text/x-python",
   "name": "python",
   "nbconvert_exporter": "python",
   "pygments_lexer": "ipython3",
   "version": "3.7.5"
  }
 },
 "nbformat": 4,
 "nbformat_minor": 2
}
