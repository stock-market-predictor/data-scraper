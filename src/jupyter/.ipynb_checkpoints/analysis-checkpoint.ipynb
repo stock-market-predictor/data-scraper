{
 "cells": [
  {
   "cell_type": "code",
   "execution_count": 1,
   "metadata": {},
   "outputs": [],
   "source": [
    "import numpy as np\n",
    "import pandas as pd\n",
    "import requests\n",
    "from datetime import datetime\n",
    "import matplotlib.pyplot as plt\n",
    "import seaborn as sns\n",
    "from scipy import stats\n",
    "sns.set_style('darkgrid')\n",
    "%matplotlib inline"
   ]
  },
  {
   "cell_type": "code",
   "execution_count": 2,
   "metadata": {},
   "outputs": [],
   "source": [
    "url = 'https://en.wikipedia.org/wiki/History_of_Federal_Open_Market_Committee_actions'\n",
    "html = requests.get(url).content\n",
    "df_list = pd.read_html(html)\n",
    "massivechanges = df_list[1]"
   ]
  },
  {
   "cell_type": "code",
   "execution_count": 3,
   "metadata": {},
   "outputs": [],
   "source": [
    "priceoffutures = pd.read_csv('30-day-fed-funds-futures.csv')"
   ]
  },
  {
   "cell_type": "code",
   "execution_count": 4,
   "metadata": {},
   "outputs": [],
   "source": [
    "date_time_str = 'January 29, 2003'\n",
    "date_time_obj = datetime.strptime(date_time_str, '%B %d, %Y')"
   ]
  },
  {
   "cell_type": "code",
   "execution_count": 5,
   "metadata": {},
   "outputs": [
    {
     "data": {
      "text/plain": [
       "datetime.datetime(2003, 1, 29, 0, 0)"
      ]
     },
     "execution_count": 5,
     "metadata": {},
     "output_type": "execute_result"
    }
   ],
   "source": [
    "date_time_obj"
   ]
  },
  {
   "cell_type": "code",
   "execution_count": 6,
   "metadata": {},
   "outputs": [],
   "source": [
    "massivechanges['Converted_Datetime'] = massivechanges['Date'].apply(lambda x:datetime.strptime(x, '%B %d, %Y'))"
   ]
  },
  {
   "cell_type": "code",
   "execution_count": 7,
   "metadata": {},
   "outputs": [],
   "source": [
    "del massivechanges['Votes']\n",
    "del massivechanges['Date']\n",
    "del massivechanges['Notes']\n",
    "del massivechanges['Discount Rate']"
   ]
  },
  {
   "cell_type": "code",
   "execution_count": 8,
   "metadata": {},
   "outputs": [
    {
     "data": {
      "text/html": [
       "<div>\n",
       "<style scoped>\n",
       "    .dataframe tbody tr th:only-of-type {\n",
       "        vertical-align: middle;\n",
       "    }\n",
       "\n",
       "    .dataframe tbody tr th {\n",
       "        vertical-align: top;\n",
       "    }\n",
       "\n",
       "    .dataframe thead th {\n",
       "        text-align: right;\n",
       "    }\n",
       "</style>\n",
       "<table border=\"1\" class=\"dataframe\">\n",
       "  <thead>\n",
       "    <tr style=\"text-align: right;\">\n",
       "      <th></th>\n",
       "      <th>Fed. Funds Rate</th>\n",
       "      <th>Converted_Datetime</th>\n",
       "    </tr>\n",
       "  </thead>\n",
       "  <tbody>\n",
       "    <tr>\n",
       "      <th>0</th>\n",
       "      <td>0%–0.25%</td>\n",
       "      <td>2020-03-15</td>\n",
       "    </tr>\n",
       "    <tr>\n",
       "      <th>1</th>\n",
       "      <td>1%–1.25%</td>\n",
       "      <td>2020-03-03</td>\n",
       "    </tr>\n",
       "    <tr>\n",
       "      <th>2</th>\n",
       "      <td>1.50%–1.75%</td>\n",
       "      <td>2019-10-30</td>\n",
       "    </tr>\n",
       "    <tr>\n",
       "      <th>3</th>\n",
       "      <td>1.75%–2.00%</td>\n",
       "      <td>2019-09-18</td>\n",
       "    </tr>\n",
       "    <tr>\n",
       "      <th>4</th>\n",
       "      <td>2.00%–2.25%</td>\n",
       "      <td>2019-07-31</td>\n",
       "    </tr>\n",
       "    <tr>\n",
       "      <th>...</th>\n",
       "      <td>...</td>\n",
       "      <td>...</td>\n",
       "    </tr>\n",
       "    <tr>\n",
       "      <th>61</th>\n",
       "      <td>1.25%</td>\n",
       "      <td>2003-05-06</td>\n",
       "    </tr>\n",
       "    <tr>\n",
       "      <th>62</th>\n",
       "      <td>1.25%</td>\n",
       "      <td>2003-03-18</td>\n",
       "    </tr>\n",
       "    <tr>\n",
       "      <th>63</th>\n",
       "      <td>1.25%</td>\n",
       "      <td>2003-01-29</td>\n",
       "    </tr>\n",
       "    <tr>\n",
       "      <th>64</th>\n",
       "      <td>1.25%</td>\n",
       "      <td>2003-01-09</td>\n",
       "    </tr>\n",
       "    <tr>\n",
       "      <th>65</th>\n",
       "      <td>1.25%</td>\n",
       "      <td>2002-12-10</td>\n",
       "    </tr>\n",
       "  </tbody>\n",
       "</table>\n",
       "<p>66 rows × 2 columns</p>\n",
       "</div>"
      ],
      "text/plain": [
       "   Fed. Funds Rate Converted_Datetime\n",
       "0         0%–0.25%         2020-03-15\n",
       "1         1%–1.25%         2020-03-03\n",
       "2      1.50%–1.75%         2019-10-30\n",
       "3      1.75%–2.00%         2019-09-18\n",
       "4      2.00%–2.25%         2019-07-31\n",
       "..             ...                ...\n",
       "61           1.25%         2003-05-06\n",
       "62           1.25%         2003-03-18\n",
       "63           1.25%         2003-01-29\n",
       "64           1.25%         2003-01-09\n",
       "65           1.25%         2002-12-10\n",
       "\n",
       "[66 rows x 2 columns]"
      ]
     },
     "execution_count": 8,
     "metadata": {},
     "output_type": "execute_result"
    }
   ],
   "source": [
    "massivechanges"
   ]
  },
  {
   "cell_type": "code",
   "execution_count": 9,
   "metadata": {},
   "outputs": [],
   "source": [
    "priceoffutures['Date'] = priceoffutures['date'].apply(lambda x:datetime.strptime(x, '%m/%d/%Y'))"
   ]
  },
  {
   "cell_type": "code",
   "execution_count": 10,
   "metadata": {},
   "outputs": [],
   "source": [
    "del priceoffutures['date']"
   ]
  },
  {
   "cell_type": "code",
   "execution_count": 11,
   "metadata": {},
   "outputs": [],
   "source": [
    "def parsestring(s):\n",
    "    if chr(8211) in s:\n",
    "        wow = s.split(chr(8211))\n",
    "        s1 = wow[0][:-1]\n",
    "        s2 = wow[1][:-1]\n",
    "        return (float(s1) + float(s2)) / 2\n",
    "    else:\n",
    "        return float(s[:-1])"
   ]
  },
  {
   "cell_type": "code",
   "execution_count": 12,
   "metadata": {
    "scrolled": true
   },
   "outputs": [],
   "source": [
    "massivechanges['Rate'] = massivechanges['Fed. Funds Rate'].apply(parsestring)"
   ]
  },
  {
   "cell_type": "code",
   "execution_count": 13,
   "metadata": {},
   "outputs": [],
   "source": [
    "del massivechanges['Fed. Funds Rate']"
   ]
  },
  {
   "cell_type": "code",
   "execution_count": 14,
   "metadata": {},
   "outputs": [
    {
     "data": {
      "text/html": [
       "<div>\n",
       "<style scoped>\n",
       "    .dataframe tbody tr th:only-of-type {\n",
       "        vertical-align: middle;\n",
       "    }\n",
       "\n",
       "    .dataframe tbody tr th {\n",
       "        vertical-align: top;\n",
       "    }\n",
       "\n",
       "    .dataframe thead th {\n",
       "        text-align: right;\n",
       "    }\n",
       "</style>\n",
       "<table border=\"1\" class=\"dataframe\">\n",
       "  <thead>\n",
       "    <tr style=\"text-align: right;\">\n",
       "      <th></th>\n",
       "      <th>Converted_Datetime</th>\n",
       "      <th>Rate</th>\n",
       "    </tr>\n",
       "  </thead>\n",
       "  <tbody>\n",
       "    <tr>\n",
       "      <th>0</th>\n",
       "      <td>2020-03-15</td>\n",
       "      <td>0.125</td>\n",
       "    </tr>\n",
       "    <tr>\n",
       "      <th>1</th>\n",
       "      <td>2020-03-03</td>\n",
       "      <td>1.125</td>\n",
       "    </tr>\n",
       "    <tr>\n",
       "      <th>2</th>\n",
       "      <td>2019-10-30</td>\n",
       "      <td>1.625</td>\n",
       "    </tr>\n",
       "    <tr>\n",
       "      <th>3</th>\n",
       "      <td>2019-09-18</td>\n",
       "      <td>1.875</td>\n",
       "    </tr>\n",
       "    <tr>\n",
       "      <th>4</th>\n",
       "      <td>2019-07-31</td>\n",
       "      <td>2.125</td>\n",
       "    </tr>\n",
       "    <tr>\n",
       "      <th>...</th>\n",
       "      <td>...</td>\n",
       "      <td>...</td>\n",
       "    </tr>\n",
       "    <tr>\n",
       "      <th>61</th>\n",
       "      <td>2003-05-06</td>\n",
       "      <td>1.250</td>\n",
       "    </tr>\n",
       "    <tr>\n",
       "      <th>62</th>\n",
       "      <td>2003-03-18</td>\n",
       "      <td>1.250</td>\n",
       "    </tr>\n",
       "    <tr>\n",
       "      <th>63</th>\n",
       "      <td>2003-01-29</td>\n",
       "      <td>1.250</td>\n",
       "    </tr>\n",
       "    <tr>\n",
       "      <th>64</th>\n",
       "      <td>2003-01-09</td>\n",
       "      <td>1.250</td>\n",
       "    </tr>\n",
       "    <tr>\n",
       "      <th>65</th>\n",
       "      <td>2002-12-10</td>\n",
       "      <td>1.250</td>\n",
       "    </tr>\n",
       "  </tbody>\n",
       "</table>\n",
       "<p>66 rows × 2 columns</p>\n",
       "</div>"
      ],
      "text/plain": [
       "   Converted_Datetime   Rate\n",
       "0          2020-03-15  0.125\n",
       "1          2020-03-03  1.125\n",
       "2          2019-10-30  1.625\n",
       "3          2019-09-18  1.875\n",
       "4          2019-07-31  2.125\n",
       "..                ...    ...\n",
       "61         2003-05-06  1.250\n",
       "62         2003-03-18  1.250\n",
       "63         2003-01-29  1.250\n",
       "64         2003-01-09  1.250\n",
       "65         2002-12-10  1.250\n",
       "\n",
       "[66 rows x 2 columns]"
      ]
     },
     "execution_count": 14,
     "metadata": {},
     "output_type": "execute_result"
    }
   ],
   "source": [
    "massivechanges"
   ]
  },
  {
   "cell_type": "code",
   "execution_count": 15,
   "metadata": {},
   "outputs": [],
   "source": [
    "priceoffutures_dict = {}\n",
    "for i in range(priceoffutures.shape[0]):\n",
    "    priceoffutures_dict[priceoffutures['Date'][i]] = priceoffutures[' value'][i]"
   ]
  },
  {
   "cell_type": "code",
   "execution_count": 16,
   "metadata": {},
   "outputs": [],
   "source": [
    "massivechanges['DayofWeek'] = massivechanges['Converted_Datetime'].apply(lambda x : datetime.weekday(x))"
   ]
  },
  {
   "cell_type": "code",
   "execution_count": 17,
   "metadata": {},
   "outputs": [
    {
     "data": {
      "text/html": [
       "<div>\n",
       "<style scoped>\n",
       "    .dataframe tbody tr th:only-of-type {\n",
       "        vertical-align: middle;\n",
       "    }\n",
       "\n",
       "    .dataframe tbody tr th {\n",
       "        vertical-align: top;\n",
       "    }\n",
       "\n",
       "    .dataframe thead th {\n",
       "        text-align: right;\n",
       "    }\n",
       "</style>\n",
       "<table border=\"1\" class=\"dataframe\">\n",
       "  <thead>\n",
       "    <tr style=\"text-align: right;\">\n",
       "      <th></th>\n",
       "      <th>value</th>\n",
       "      <th>Date</th>\n",
       "    </tr>\n",
       "  </thead>\n",
       "  <tbody>\n",
       "    <tr>\n",
       "      <th>0</th>\n",
       "      <td>91.710</td>\n",
       "      <td>1988-10-03</td>\n",
       "    </tr>\n",
       "    <tr>\n",
       "      <th>1</th>\n",
       "      <td>91.710</td>\n",
       "      <td>1988-10-04</td>\n",
       "    </tr>\n",
       "    <tr>\n",
       "      <th>2</th>\n",
       "      <td>91.730</td>\n",
       "      <td>1988-10-05</td>\n",
       "    </tr>\n",
       "    <tr>\n",
       "      <th>3</th>\n",
       "      <td>91.700</td>\n",
       "      <td>1988-10-06</td>\n",
       "    </tr>\n",
       "    <tr>\n",
       "      <th>4</th>\n",
       "      <td>91.780</td>\n",
       "      <td>1988-10-07</td>\n",
       "    </tr>\n",
       "    <tr>\n",
       "      <th>...</th>\n",
       "      <td>...</td>\n",
       "      <td>...</td>\n",
       "    </tr>\n",
       "    <tr>\n",
       "      <th>8004</th>\n",
       "      <td>99.920</td>\n",
       "      <td>2020-07-23</td>\n",
       "    </tr>\n",
       "    <tr>\n",
       "      <th>8005</th>\n",
       "      <td>99.920</td>\n",
       "      <td>2020-07-24</td>\n",
       "    </tr>\n",
       "    <tr>\n",
       "      <th>8006</th>\n",
       "      <td>99.925</td>\n",
       "      <td>2020-07-27</td>\n",
       "    </tr>\n",
       "    <tr>\n",
       "      <th>8007</th>\n",
       "      <td>99.922</td>\n",
       "      <td>2020-07-28</td>\n",
       "    </tr>\n",
       "    <tr>\n",
       "      <th>8008</th>\n",
       "      <td>99.924</td>\n",
       "      <td>2020-07-29</td>\n",
       "    </tr>\n",
       "  </tbody>\n",
       "</table>\n",
       "<p>8009 rows × 2 columns</p>\n",
       "</div>"
      ],
      "text/plain": [
       "       value       Date\n",
       "0     91.710 1988-10-03\n",
       "1     91.710 1988-10-04\n",
       "2     91.730 1988-10-05\n",
       "3     91.700 1988-10-06\n",
       "4     91.780 1988-10-07\n",
       "...      ...        ...\n",
       "8004  99.920 2020-07-23\n",
       "8005  99.920 2020-07-24\n",
       "8006  99.925 2020-07-27\n",
       "8007  99.922 2020-07-28\n",
       "8008  99.924 2020-07-29\n",
       "\n",
       "[8009 rows x 2 columns]"
      ]
     },
     "execution_count": 17,
     "metadata": {},
     "output_type": "execute_result"
    }
   ],
   "source": [
    "priceoffutures\n"
   ]
  },
  {
   "cell_type": "code",
   "execution_count": 18,
   "metadata": {},
   "outputs": [],
   "source": [
    "def rowinpriceoffutures(i):\n",
    "    for j in range(len(priceoffutures['Date'])):\n",
    "        if priceoffutures['Date'][j] > i:\n",
    "            return j-1\n",
    "    return -1"
   ]
  },
  {
   "cell_type": "code",
   "execution_count": 19,
   "metadata": {},
   "outputs": [],
   "source": [
    "massivechanges['rowinpriceoffutures'] = massivechanges['Converted_Datetime'].apply(lambda x : rowinpriceoffutures(x))"
   ]
  },
  {
   "cell_type": "code",
   "execution_count": 20,
   "metadata": {},
   "outputs": [],
   "source": [
    "returnlist = []\n",
    "for i in range(len(massivechanges['rowinpriceoffutures'])):\n",
    "    if massivechanges['DayofWeek'][i] == 5 or massivechanges['DayofWeek'][i] == 6:\n",
    "        returnlist.append(priceoffutures['Date'][massivechanges['rowinpriceoffutures'][i]])\n",
    "    else:\n",
    "        returnlist.append(priceoffutures['Date'][massivechanges['rowinpriceoffutures'][i]-1])\n",
    "\n",
    "massivechanges['Day before'] = pd.Series(returnlist)\n"
   ]
  },
  {
   "cell_type": "code",
   "execution_count": 21,
   "metadata": {},
   "outputs": [],
   "source": [
    "returnlist = []\n",
    "for i in range(len(massivechanges['rowinpriceoffutures'])):\n",
    "        returnlist.append(priceoffutures['Date'][massivechanges['rowinpriceoffutures'][i]+1])\n",
    "\n",
    "massivechanges['Day after'] = pd.Series(returnlist)"
   ]
  },
  {
   "cell_type": "code",
   "execution_count": 22,
   "metadata": {},
   "outputs": [],
   "source": [
    "massivechanges['Ratedaybefore'] = massivechanges['Day before'].apply(lambda x : priceoffutures_dict[x])"
   ]
  },
  {
   "cell_type": "code",
   "execution_count": 23,
   "metadata": {},
   "outputs": [],
   "source": [
    "massivechanges['Ratedayafter'] = massivechanges['Day after'].apply(lambda x : priceoffutures_dict[x])"
   ]
  },
  {
   "cell_type": "code",
   "execution_count": 24,
   "metadata": {},
   "outputs": [],
   "source": [
    "massivechanges['difference'] = massivechanges['Ratedayafter'] - massivechanges['Ratedaybefore']"
   ]
  },
  {
   "cell_type": "code",
   "execution_count": 25,
   "metadata": {},
   "outputs": [
    {
     "data": {
      "image/png": "[encoded data removed]",
      "text/plain": [
       "<Figure size 432x288 with 1 Axes>"
      ]
     },
     "metadata": {
      "needs_background": "light"
     },
     "output_type": "display_data"
    }
   ],
   "source": [
    "plt.scatter(massivechanges['Rate'], massivechanges['difference'])\n",
    "plt.show()"
   ]
  },
  {
   "cell_type": "code",
   "execution_count": 26,
   "metadata": {},
   "outputs": [
    {
     "name": "stderr",
     "output_type": "stream",
     "text": [
      "/opt/anaconda3/envs/venv/lib/python3.7/site-packages/pandas/plotting/_matplotlib/converter.py:103: FutureWarning: Using an implicitly registered datetime converter for a matplotlib plotting method. The converter was registered by pandas on import. Future versions of pandas will require you to explicitly register matplotlib converters.\n",
      "\n",
      "To register the converters:\n",
      "\t>>> from pandas.plotting import register_matplotlib_converters\n",
      "\t>>> register_matplotlib_converters()\n",
      "  warnings.warn(msg, FutureWarning)\n"
     ]
    },
    {
     "data": {
      "image/png": "[encoded data removed]",
      "text/plain": [
       "<Figure size 432x288 with 1 Axes>"
      ]
     },
     "metadata": {
      "needs_background": "light"
     },
     "output_type": "display_data"
    }
   ],
   "source": [
    "plt.scatter(massivechanges['Converted_Datetime'], massivechanges['difference'])\n",
    "plt.show()"
   ]
  },
  {
   "cell_type": "code",
   "execution_count": 27,
   "metadata": {},
   "outputs": [
    {
     "data": {
      "image/png": "[encoded data removed]",
      "text/plain": [
       "<Figure size 432x288 with 1 Axes>"
      ]
     },
     "metadata": {
      "needs_background": "light"
     },
     "output_type": "display_data"
    }
   ],
   "source": [
    "plt.scatter(massivechanges['Converted_Datetime'], massivechanges['Rate'])\n",
    "plt.show()"
   ]
  },
  {
   "cell_type": "code",
   "execution_count": 28,
   "metadata": {},
   "outputs": [],
   "source": [
    "returnlist = []\n",
    "for i in range(len(massivechanges['Rate'])):\n",
    "    if i == len(massivechanges['Rate'])-1:\n",
    "        returnlist.append(0)\n",
    "    else:\n",
    "        returnlist.append(massivechanges['Rate'][i] - massivechanges['Rate'][i+1])\n",
    "massivechanges['Rate Changes'] = pd.Series(returnlist)"
   ]
  },
  {
   "cell_type": "code",
   "execution_count": 29,
   "metadata": {},
   "outputs": [
    {
     "data": {
      "image/png": "[encoded data removed]",
      "text/plain": [
       "<Figure size 432x288 with 1 Axes>"
      ]
     },
     "metadata": {
      "needs_background": "light"
     },
     "output_type": "display_data"
    }
   ],
   "source": [
    "plt.scatter(massivechanges['Rate Changes'], massivechanges['difference'])\n",
    "plt.show()"
   ]
  },
  {
   "cell_type": "code",
   "execution_count": 30,
   "metadata": {},
   "outputs": [
    {
     "data": {
      "text/html": [
       "<div>\n",
       "<style scoped>\n",
       "    .dataframe tbody tr th:only-of-type {\n",
       "        vertical-align: middle;\n",
       "    }\n",
       "\n",
       "    .dataframe tbody tr th {\n",
       "        vertical-align: top;\n",
       "    }\n",
       "\n",
       "    .dataframe thead th {\n",
       "        text-align: right;\n",
       "    }\n",
       "</style>\n",
       "<table border=\"1\" class=\"dataframe\">\n",
       "  <thead>\n",
       "    <tr style=\"text-align: right;\">\n",
       "      <th></th>\n",
       "      <th>Converted_Datetime</th>\n",
       "      <th>Rate</th>\n",
       "      <th>DayofWeek</th>\n",
       "      <th>rowinpriceoffutures</th>\n",
       "      <th>Day before</th>\n",
       "      <th>Day after</th>\n",
       "      <th>Ratedaybefore</th>\n",
       "      <th>Ratedayafter</th>\n",
       "      <th>difference</th>\n",
       "      <th>Rate Changes</th>\n",
       "    </tr>\n",
       "  </thead>\n",
       "  <tbody>\n",
       "    <tr>\n",
       "      <th>0</th>\n",
       "      <td>2020-03-15</td>\n",
       "      <td>0.125</td>\n",
       "      <td>6</td>\n",
       "      <td>7913</td>\n",
       "      <td>2020-03-13</td>\n",
       "      <td>2020-03-16</td>\n",
       "      <td>99.840</td>\n",
       "      <td>99.8950</td>\n",
       "      <td>0.0550</td>\n",
       "      <td>-1.00</td>\n",
       "    </tr>\n",
       "    <tr>\n",
       "      <th>1</th>\n",
       "      <td>2020-03-03</td>\n",
       "      <td>1.125</td>\n",
       "      <td>1</td>\n",
       "      <td>7905</td>\n",
       "      <td>2020-03-02</td>\n",
       "      <td>2020-03-04</td>\n",
       "      <td>98.910</td>\n",
       "      <td>99.2200</td>\n",
       "      <td>0.3100</td>\n",
       "      <td>-0.50</td>\n",
       "    </tr>\n",
       "    <tr>\n",
       "      <th>2</th>\n",
       "      <td>2019-10-30</td>\n",
       "      <td>1.625</td>\n",
       "      <td>2</td>\n",
       "      <td>7821</td>\n",
       "      <td>2019-10-29</td>\n",
       "      <td>2019-10-31</td>\n",
       "      <td>98.407</td>\n",
       "      <td>98.4425</td>\n",
       "      <td>0.0355</td>\n",
       "      <td>-0.25</td>\n",
       "    </tr>\n",
       "    <tr>\n",
       "      <th>3</th>\n",
       "      <td>2019-09-18</td>\n",
       "      <td>1.875</td>\n",
       "      <td>2</td>\n",
       "      <td>7791</td>\n",
       "      <td>2019-09-17</td>\n",
       "      <td>2019-09-19</td>\n",
       "      <td>98.095</td>\n",
       "      <td>98.1200</td>\n",
       "      <td>0.0250</td>\n",
       "      <td>-0.25</td>\n",
       "    </tr>\n",
       "    <tr>\n",
       "      <th>4</th>\n",
       "      <td>2019-07-31</td>\n",
       "      <td>2.125</td>\n",
       "      <td>2</td>\n",
       "      <td>7757</td>\n",
       "      <td>2019-07-30</td>\n",
       "      <td>2019-08-01</td>\n",
       "      <td>97.930</td>\n",
       "      <td>97.9400</td>\n",
       "      <td>0.0100</td>\n",
       "      <td>-0.25</td>\n",
       "    </tr>\n",
       "    <tr>\n",
       "      <th>...</th>\n",
       "      <td>...</td>\n",
       "      <td>...</td>\n",
       "      <td>...</td>\n",
       "      <td>...</td>\n",
       "      <td>...</td>\n",
       "      <td>...</td>\n",
       "      <td>...</td>\n",
       "      <td>...</td>\n",
       "      <td>...</td>\n",
       "      <td>...</td>\n",
       "    </tr>\n",
       "    <tr>\n",
       "      <th>61</th>\n",
       "      <td>2003-05-06</td>\n",
       "      <td>1.250</td>\n",
       "      <td>1</td>\n",
       "      <td>3671</td>\n",
       "      <td>2003-05-05</td>\n",
       "      <td>2003-05-07</td>\n",
       "      <td>98.825</td>\n",
       "      <td>98.7900</td>\n",
       "      <td>-0.0350</td>\n",
       "      <td>0.00</td>\n",
       "    </tr>\n",
       "    <tr>\n",
       "      <th>62</th>\n",
       "      <td>2003-03-18</td>\n",
       "      <td>1.250</td>\n",
       "      <td>1</td>\n",
       "      <td>3637</td>\n",
       "      <td>2003-03-17</td>\n",
       "      <td>2003-03-19</td>\n",
       "      <td>98.830</td>\n",
       "      <td>98.8050</td>\n",
       "      <td>-0.0250</td>\n",
       "      <td>0.00</td>\n",
       "    </tr>\n",
       "    <tr>\n",
       "      <th>63</th>\n",
       "      <td>2003-01-29</td>\n",
       "      <td>1.250</td>\n",
       "      <td>2</td>\n",
       "      <td>3604</td>\n",
       "      <td>2003-01-28</td>\n",
       "      <td>2003-01-30</td>\n",
       "      <td>98.780</td>\n",
       "      <td>98.7820</td>\n",
       "      <td>0.0020</td>\n",
       "      <td>0.00</td>\n",
       "    </tr>\n",
       "    <tr>\n",
       "      <th>64</th>\n",
       "      <td>2003-01-09</td>\n",
       "      <td>1.250</td>\n",
       "      <td>3</td>\n",
       "      <td>3591</td>\n",
       "      <td>2003-01-08</td>\n",
       "      <td>2003-01-10</td>\n",
       "      <td>98.775</td>\n",
       "      <td>98.7700</td>\n",
       "      <td>-0.0050</td>\n",
       "      <td>0.00</td>\n",
       "    </tr>\n",
       "    <tr>\n",
       "      <th>65</th>\n",
       "      <td>2002-12-10</td>\n",
       "      <td>1.250</td>\n",
       "      <td>1</td>\n",
       "      <td>3571</td>\n",
       "      <td>2002-12-09</td>\n",
       "      <td>2002-12-11</td>\n",
       "      <td>98.765</td>\n",
       "      <td>98.7650</td>\n",
       "      <td>0.0000</td>\n",
       "      <td>0.00</td>\n",
       "    </tr>\n",
       "  </tbody>\n",
       "</table>\n",
       "<p>66 rows × 10 columns</p>\n",
       "</div>"
      ],
      "text/plain": [
       "   Converted_Datetime   Rate  DayofWeek  rowinpriceoffutures Day before  \\\n",
       "0          2020-03-15  0.125          6                 7913 2020-03-13   \n",
       "1          2020-03-03  1.125          1                 7905 2020-03-02   \n",
       "2          2019-10-30  1.625          2                 7821 2019-10-29   \n",
       "3          2019-09-18  1.875          2                 7791 2019-09-17   \n",
       "4          2019-07-31  2.125          2                 7757 2019-07-30   \n",
       "..                ...    ...        ...                  ...        ...   \n",
       "61         2003-05-06  1.250          1                 3671 2003-05-05   \n",
       "62         2003-03-18  1.250          1                 3637 2003-03-17   \n",
       "63         2003-01-29  1.250          2                 3604 2003-01-28   \n",
       "64         2003-01-09  1.250          3                 3591 2003-01-08   \n",
       "65         2002-12-10  1.250          1                 3571 2002-12-09   \n",
       "\n",
       "    Day after  Ratedaybefore  Ratedayafter  difference  Rate Changes  \n",
       "0  2020-03-16         99.840       99.8950      0.0550         -1.00  \n",
       "1  2020-03-04         98.910       99.2200      0.3100         -0.50  \n",
       "2  2019-10-31         98.407       98.4425      0.0355         -0.25  \n",
       "3  2019-09-19         98.095       98.1200      0.0250         -0.25  \n",
       "4  2019-08-01         97.930       97.9400      0.0100         -0.25  \n",
       "..        ...            ...           ...         ...           ...  \n",
       "61 2003-05-07         98.825       98.7900     -0.0350          0.00  \n",
       "62 2003-03-19         98.830       98.8050     -0.0250          0.00  \n",
       "63 2003-01-30         98.780       98.7820      0.0020          0.00  \n",
       "64 2003-01-10         98.775       98.7700     -0.0050          0.00  \n",
       "65 2002-12-11         98.765       98.7650      0.0000          0.00  \n",
       "\n",
       "[66 rows x 10 columns]"
      ]
     },
     "execution_count": 30,
     "metadata": {},
     "output_type": "execute_result"
    }
   ],
   "source": [
    "massivechanges"
   ]
  },
  {
   "cell_type": "code",
   "execution_count": 31,
   "metadata": {},
   "outputs": [
    {
     "data": {
      "text/plain": [
       "<matplotlib.axes._subplots.AxesSubplot at 0x1a20f3bc50>"
      ]
     },
     "execution_count": 31,
     "metadata": {},
     "output_type": "execute_result"
    },
    {
     "data": {
      "image/png": "[encoded data removed]",
      "text/plain": [
       "<Figure size 432x288 with 1 Axes>"
      ]
     },
     "metadata": {
      "needs_background": "light"
     },
     "output_type": "display_data"
    }
   ],
   "source": [
    "sns.scatterplot(x='Rate Changes', y='difference', data=massivechanges)"
   ]
  },
  {
   "cell_type": "code",
   "execution_count": 32,
   "metadata": {},
   "outputs": [],
   "source": [
    "x = massivechanges['Rate Changes']\n",
    "y = massivechanges['difference']\n",
    "xVal, yVal = zip(*sorted((xVal, np.mean([yVal for a, yVal in zip(x, y) if xVal==a])) for xVal in set(x)))"
   ]
  },
  {
   "cell_type": "code",
   "execution_count": 33,
   "metadata": {},
   "outputs": [
    {
     "data": {
      "text/plain": [
       "<matplotlib.axes._subplots.AxesSubplot at 0x1a20d1fd10>"
      ]
     },
     "execution_count": 33,
     "metadata": {},
     "output_type": "execute_result"
    },
    {
     "data": {
      "image/png": "[encoded data removed]",
      "text/plain": [
       "<Figure size 432x288 with 1 Axes>"
      ]
     },
     "metadata": {
      "needs_background": "light"
     },
     "output_type": "display_data"
    }
   ],
   "source": [
    "sns.lineplot(x=xVal, y=yVal)\n",
    "sns.scatterplot(x='Rate Changes', y='difference', data=massivechanges)"
   ]
  },
  {
   "cell_type": "code",
   "execution_count": 34,
   "metadata": {},
   "outputs": [],
   "source": [
    "x_np = (massivechanges['Rate Changes']).to_numpy()\n",
    "y_np = massivechanges['difference'].to_numpy()"
   ]
  },
  {
   "cell_type": "code",
   "execution_count": 35,
   "metadata": {},
   "outputs": [],
   "source": [
    "m, b = np.polyfit(x_np, y_np, 1)"
   ]
  },
  {
   "cell_type": "code",
   "execution_count": 36,
   "metadata": {
    "scrolled": true
   },
   "outputs": [
    {
     "data": {
      "image/png": "[encoded data removed]",
      "text/plain": [
       "<Figure size 432x288 with 1 Axes>"
      ]
     },
     "metadata": {
      "needs_background": "light"
     },
     "output_type": "display_data"
    }
   ],
   "source": [
    "plt.scatter(x, y)\n",
    "plt.plot(x, m*x + b, 'r-', label = 'y = ' + str(m)+ 'x + ' + str(b))\n",
    "plt.xlabel(\"Rate Hike/Cut\")\n",
    "plt.ylabel(\"Change in price of 30 day Fed Funds Future\")\n",
    "plt.title(\"Effect of Rate Hike/Cut on Price of 30 day Fed Funds Future\")\n",
    "plt.legend()\n",
    "\n",
    "plt.savefig('graph.png', dpi = 800)"
   ]
  },
  {
   "cell_type": "code",
   "execution_count": 37,
   "metadata": {},
   "outputs": [
    {
     "data": {
      "text/html": [
       "<div>\n",
       "<style scoped>\n",
       "    .dataframe tbody tr th:only-of-type {\n",
       "        vertical-align: middle;\n",
       "    }\n",
       "\n",
       "    .dataframe tbody tr th {\n",
       "        vertical-align: top;\n",
       "    }\n",
       "\n",
       "    .dataframe thead th {\n",
       "        text-align: right;\n",
       "    }\n",
       "</style>\n",
       "<table border=\"1\" class=\"dataframe\">\n",
       "  <thead>\n",
       "    <tr style=\"text-align: right;\">\n",
       "      <th></th>\n",
       "      <th>Converted_Datetime</th>\n",
       "      <th>Rate</th>\n",
       "      <th>DayofWeek</th>\n",
       "      <th>rowinpriceoffutures</th>\n",
       "      <th>Day before</th>\n",
       "      <th>Day after</th>\n",
       "      <th>Ratedaybefore</th>\n",
       "      <th>Ratedayafter</th>\n",
       "      <th>difference</th>\n",
       "      <th>Rate Changes</th>\n",
       "    </tr>\n",
       "  </thead>\n",
       "  <tbody>\n",
       "    <tr>\n",
       "      <th>0</th>\n",
       "      <td>2020-03-15</td>\n",
       "      <td>0.125</td>\n",
       "      <td>6</td>\n",
       "      <td>7913</td>\n",
       "      <td>2020-03-13</td>\n",
       "      <td>2020-03-16</td>\n",
       "      <td>99.840</td>\n",
       "      <td>99.8950</td>\n",
       "      <td>0.0550</td>\n",
       "      <td>-1.000</td>\n",
       "    </tr>\n",
       "    <tr>\n",
       "      <th>1</th>\n",
       "      <td>2020-03-03</td>\n",
       "      <td>1.125</td>\n",
       "      <td>1</td>\n",
       "      <td>7905</td>\n",
       "      <td>2020-03-02</td>\n",
       "      <td>2020-03-04</td>\n",
       "      <td>98.910</td>\n",
       "      <td>99.2200</td>\n",
       "      <td>0.3100</td>\n",
       "      <td>-0.500</td>\n",
       "    </tr>\n",
       "    <tr>\n",
       "      <th>2</th>\n",
       "      <td>2019-10-30</td>\n",
       "      <td>1.625</td>\n",
       "      <td>2</td>\n",
       "      <td>7821</td>\n",
       "      <td>2019-10-29</td>\n",
       "      <td>2019-10-31</td>\n",
       "      <td>98.407</td>\n",
       "      <td>98.4425</td>\n",
       "      <td>0.0355</td>\n",
       "      <td>-0.250</td>\n",
       "    </tr>\n",
       "    <tr>\n",
       "      <th>3</th>\n",
       "      <td>2019-09-18</td>\n",
       "      <td>1.875</td>\n",
       "      <td>2</td>\n",
       "      <td>7791</td>\n",
       "      <td>2019-09-17</td>\n",
       "      <td>2019-09-19</td>\n",
       "      <td>98.095</td>\n",
       "      <td>98.1200</td>\n",
       "      <td>0.0250</td>\n",
       "      <td>-0.250</td>\n",
       "    </tr>\n",
       "    <tr>\n",
       "      <th>4</th>\n",
       "      <td>2019-07-31</td>\n",
       "      <td>2.125</td>\n",
       "      <td>2</td>\n",
       "      <td>7757</td>\n",
       "      <td>2019-07-30</td>\n",
       "      <td>2019-08-01</td>\n",
       "      <td>97.930</td>\n",
       "      <td>97.9400</td>\n",
       "      <td>0.0100</td>\n",
       "      <td>-0.250</td>\n",
       "    </tr>\n",
       "    <tr>\n",
       "      <th>5</th>\n",
       "      <td>2018-12-19</td>\n",
       "      <td>2.375</td>\n",
       "      <td>2</td>\n",
       "      <td>7604</td>\n",
       "      <td>2018-12-18</td>\n",
       "      <td>2018-12-20</td>\n",
       "      <td>97.630</td>\n",
       "      <td>97.5950</td>\n",
       "      <td>-0.0350</td>\n",
       "      <td>0.250</td>\n",
       "    </tr>\n",
       "    <tr>\n",
       "      <th>6</th>\n",
       "      <td>2018-09-26</td>\n",
       "      <td>2.125</td>\n",
       "      <td>2</td>\n",
       "      <td>7545</td>\n",
       "      <td>2018-09-25</td>\n",
       "      <td>2018-09-27</td>\n",
       "      <td>97.824</td>\n",
       "      <td>97.8200</td>\n",
       "      <td>-0.0040</td>\n",
       "      <td>0.250</td>\n",
       "    </tr>\n",
       "    <tr>\n",
       "      <th>7</th>\n",
       "      <td>2018-06-13</td>\n",
       "      <td>1.875</td>\n",
       "      <td>2</td>\n",
       "      <td>7472</td>\n",
       "      <td>2018-06-12</td>\n",
       "      <td>2018-06-14</td>\n",
       "      <td>98.085</td>\n",
       "      <td>98.0850</td>\n",
       "      <td>0.0000</td>\n",
       "      <td>0.250</td>\n",
       "    </tr>\n",
       "    <tr>\n",
       "      <th>8</th>\n",
       "      <td>2018-03-21</td>\n",
       "      <td>1.625</td>\n",
       "      <td>2</td>\n",
       "      <td>7414</td>\n",
       "      <td>2018-03-20</td>\n",
       "      <td>2018-03-22</td>\n",
       "      <td>98.325</td>\n",
       "      <td>98.3150</td>\n",
       "      <td>-0.0100</td>\n",
       "      <td>0.250</td>\n",
       "    </tr>\n",
       "    <tr>\n",
       "      <th>9</th>\n",
       "      <td>2017-12-13</td>\n",
       "      <td>1.375</td>\n",
       "      <td>2</td>\n",
       "      <td>7348</td>\n",
       "      <td>2017-12-12</td>\n",
       "      <td>2017-12-14</td>\n",
       "      <td>98.600</td>\n",
       "      <td>98.5950</td>\n",
       "      <td>-0.0050</td>\n",
       "      <td>0.250</td>\n",
       "    </tr>\n",
       "    <tr>\n",
       "      <th>10</th>\n",
       "      <td>2017-06-14</td>\n",
       "      <td>1.125</td>\n",
       "      <td>2</td>\n",
       "      <td>7221</td>\n",
       "      <td>2017-06-13</td>\n",
       "      <td>2017-06-15</td>\n",
       "      <td>98.860</td>\n",
       "      <td>98.8500</td>\n",
       "      <td>-0.0100</td>\n",
       "      <td>0.250</td>\n",
       "    </tr>\n",
       "    <tr>\n",
       "      <th>11</th>\n",
       "      <td>2017-03-15</td>\n",
       "      <td>0.875</td>\n",
       "      <td>2</td>\n",
       "      <td>7158</td>\n",
       "      <td>2017-03-14</td>\n",
       "      <td>2017-03-16</td>\n",
       "      <td>99.115</td>\n",
       "      <td>99.1100</td>\n",
       "      <td>-0.0050</td>\n",
       "      <td>0.250</td>\n",
       "    </tr>\n",
       "    <tr>\n",
       "      <th>12</th>\n",
       "      <td>2016-12-14</td>\n",
       "      <td>0.625</td>\n",
       "      <td>2</td>\n",
       "      <td>7097</td>\n",
       "      <td>2016-12-13</td>\n",
       "      <td>2016-12-15</td>\n",
       "      <td>99.360</td>\n",
       "      <td>99.3550</td>\n",
       "      <td>-0.0050</td>\n",
       "      <td>0.250</td>\n",
       "    </tr>\n",
       "    <tr>\n",
       "      <th>13</th>\n",
       "      <td>2015-12-16</td>\n",
       "      <td>0.375</td>\n",
       "      <td>2</td>\n",
       "      <td>6846</td>\n",
       "      <td>2015-12-15</td>\n",
       "      <td>2015-12-17</td>\n",
       "      <td>99.685</td>\n",
       "      <td>99.6600</td>\n",
       "      <td>-0.0250</td>\n",
       "      <td>0.250</td>\n",
       "    </tr>\n",
       "    <tr>\n",
       "      <th>14</th>\n",
       "      <td>2011-06-22</td>\n",
       "      <td>0.125</td>\n",
       "      <td>2</td>\n",
       "      <td>5715</td>\n",
       "      <td>2011-06-21</td>\n",
       "      <td>2011-06-23</td>\n",
       "      <td>99.890</td>\n",
       "      <td>99.9000</td>\n",
       "      <td>0.0100</td>\n",
       "      <td>0.000</td>\n",
       "    </tr>\n",
       "    <tr>\n",
       "      <th>15</th>\n",
       "      <td>2008-12-16</td>\n",
       "      <td>0.125</td>\n",
       "      <td>1</td>\n",
       "      <td>5081</td>\n",
       "      <td>2008-12-15</td>\n",
       "      <td>2008-12-17</td>\n",
       "      <td>99.670</td>\n",
       "      <td>99.8150</td>\n",
       "      <td>0.1450</td>\n",
       "      <td>-0.875</td>\n",
       "    </tr>\n",
       "    <tr>\n",
       "      <th>16</th>\n",
       "      <td>2008-10-29</td>\n",
       "      <td>1.000</td>\n",
       "      <td>2</td>\n",
       "      <td>5048</td>\n",
       "      <td>2008-10-28</td>\n",
       "      <td>2008-10-30</td>\n",
       "      <td>99.125</td>\n",
       "      <td>99.3480</td>\n",
       "      <td>0.2230</td>\n",
       "      <td>-0.500</td>\n",
       "    </tr>\n",
       "    <tr>\n",
       "      <th>17</th>\n",
       "      <td>2008-10-08</td>\n",
       "      <td>1.500</td>\n",
       "      <td>2</td>\n",
       "      <td>5033</td>\n",
       "      <td>2008-10-07</td>\n",
       "      <td>2008-10-09</td>\n",
       "      <td>98.580</td>\n",
       "      <td>98.7250</td>\n",
       "      <td>0.1450</td>\n",
       "      <td>-0.500</td>\n",
       "    </tr>\n",
       "    <tr>\n",
       "      <th>18</th>\n",
       "      <td>2008-04-30</td>\n",
       "      <td>2.000</td>\n",
       "      <td>2</td>\n",
       "      <td>4921</td>\n",
       "      <td>2008-04-29</td>\n",
       "      <td>2008-05-01</td>\n",
       "      <td>97.956</td>\n",
       "      <td>98.0150</td>\n",
       "      <td>0.0590</td>\n",
       "      <td>-0.250</td>\n",
       "    </tr>\n",
       "    <tr>\n",
       "      <th>19</th>\n",
       "      <td>2008-03-18</td>\n",
       "      <td>2.250</td>\n",
       "      <td>1</td>\n",
       "      <td>4891</td>\n",
       "      <td>2008-03-17</td>\n",
       "      <td>2008-03-19</td>\n",
       "      <td>98.055</td>\n",
       "      <td>97.8450</td>\n",
       "      <td>-0.2100</td>\n",
       "      <td>-0.750</td>\n",
       "    </tr>\n",
       "  </tbody>\n",
       "</table>\n",
       "</div>"
      ],
      "text/plain": [
       "   Converted_Datetime   Rate  DayofWeek  rowinpriceoffutures Day before  \\\n",
       "0          2020-03-15  0.125          6                 7913 2020-03-13   \n",
       "1          2020-03-03  1.125          1                 7905 2020-03-02   \n",
       "2          2019-10-30  1.625          2                 7821 2019-10-29   \n",
       "3          2019-09-18  1.875          2                 7791 2019-09-17   \n",
       "4          2019-07-31  2.125          2                 7757 2019-07-30   \n",
       "5          2018-12-19  2.375          2                 7604 2018-12-18   \n",
       "6          2018-09-26  2.125          2                 7545 2018-09-25   \n",
       "7          2018-06-13  1.875          2                 7472 2018-06-12   \n",
       "8          2018-03-21  1.625          2                 7414 2018-03-20   \n",
       "9          2017-12-13  1.375          2                 7348 2017-12-12   \n",
       "10         2017-06-14  1.125          2                 7221 2017-06-13   \n",
       "11         2017-03-15  0.875          2                 7158 2017-03-14   \n",
       "12         2016-12-14  0.625          2                 7097 2016-12-13   \n",
       "13         2015-12-16  0.375          2                 6846 2015-12-15   \n",
       "14         2011-06-22  0.125          2                 5715 2011-06-21   \n",
       "15         2008-12-16  0.125          1                 5081 2008-12-15   \n",
       "16         2008-10-29  1.000          2                 5048 2008-10-28   \n",
       "17         2008-10-08  1.500          2                 5033 2008-10-07   \n",
       "18         2008-04-30  2.000          2                 4921 2008-04-29   \n",
       "19         2008-03-18  2.250          1                 4891 2008-03-17   \n",
       "\n",
       "    Day after  Ratedaybefore  Ratedayafter  difference  Rate Changes  \n",
       "0  2020-03-16         99.840       99.8950      0.0550        -1.000  \n",
       "1  2020-03-04         98.910       99.2200      0.3100        -0.500  \n",
       "2  2019-10-31         98.407       98.4425      0.0355        -0.250  \n",
       "3  2019-09-19         98.095       98.1200      0.0250        -0.250  \n",
       "4  2019-08-01         97.930       97.9400      0.0100        -0.250  \n",
       "5  2018-12-20         97.630       97.5950     -0.0350         0.250  \n",
       "6  2018-09-27         97.824       97.8200     -0.0040         0.250  \n",
       "7  2018-06-14         98.085       98.0850      0.0000         0.250  \n",
       "8  2018-03-22         98.325       98.3150     -0.0100         0.250  \n",
       "9  2017-12-14         98.600       98.5950     -0.0050         0.250  \n",
       "10 2017-06-15         98.860       98.8500     -0.0100         0.250  \n",
       "11 2017-03-16         99.115       99.1100     -0.0050         0.250  \n",
       "12 2016-12-15         99.360       99.3550     -0.0050         0.250  \n",
       "13 2015-12-17         99.685       99.6600     -0.0250         0.250  \n",
       "14 2011-06-23         99.890       99.9000      0.0100         0.000  \n",
       "15 2008-12-17         99.670       99.8150      0.1450        -0.875  \n",
       "16 2008-10-30         99.125       99.3480      0.2230        -0.500  \n",
       "17 2008-10-09         98.580       98.7250      0.1450        -0.500  \n",
       "18 2008-05-01         97.956       98.0150      0.0590        -0.250  \n",
       "19 2008-03-19         98.055       97.8450     -0.2100        -0.750  "
      ]
     },
     "execution_count": 37,
     "metadata": {},
     "output_type": "execute_result"
    }
   ],
   "source": [
    "massivechanges.head(20)"
   ]
  },
  {
   "cell_type": "code",
   "execution_count": null,
   "metadata": {},
   "outputs": [],
   "source": []
  },
  {
   "cell_type": "markdown",
   "metadata": {},
   "source": []
  }
 ],
 "metadata": {
  "kernelspec": {
   "display_name": "Python 3",
   "language": "python",
   "name": "python3"
  },
  "language_info": {
   "codemirror_mode": {
    "name": "ipython",
    "version": 3
   },
   "file_extension": ".py",
   "mimetype": "text/x-python",
   "name": "python",
   "nbconvert_exporter": "python",
   "pygments_lexer": "ipython3",
   "version": "3.7.5"
  }
 },
 "nbformat": 4,
 "nbformat_minor": 2
}
