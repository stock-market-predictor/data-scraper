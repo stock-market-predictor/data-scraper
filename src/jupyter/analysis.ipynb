{
 "cells": [
  {
   "cell_type": "code",
   "execution_count": 1,
   "metadata": {},
   "outputs": [],
   "source": [
    "import numpy as np\n",
    "import pandas as pd\n",
    "import requests\n",
    "from bs4 import BeautifulSoup\n",
    "from datetime import datetime, timedelta\n",
    "import matplotlib.pyplot as plt\n",
    "import seaborn as sns\n",
    "from scipy import stats\n",
    "sns.set_style('darkgrid')\n",
    "%matplotlib inline"
   ]
  },
  {
   "cell_type": "markdown",
   "metadata": {},
   "source": [
    "# Gathering Data"
   ]
  },
  {
   "cell_type": "code",
   "execution_count": 2,
   "metadata": {},
   "outputs": [],
   "source": [
    "url = 'https://en.wikipedia.org/wiki/History_of_Federal_Open_Market_Committee_actions'\n",
    "html = requests.get(url).content\n",
    "df_list = pd.read_html(html)\n",
    "massivechanges = df_list[1]"
   ]
  },
  {
   "cell_type": "code",
   "execution_count": 3,
   "metadata": {
    "scrolled": true
   },
   "outputs": [],
   "source": [
    "def getFOMCDates(decade):\n",
    "    url = f'https://fraser.stlouisfed.org/title/federal-open-market-committee-meeting-minutes-transcripts-documents-677?browse={decade}s'\n",
    "    res = requests.get(url)\n",
    "    soup = BeautifulSoup(res.text, 'html.parser')\n",
    "\n",
    "    dateList = soup.find_all('span', {'class': 'list-item-title'})\n",
    "    dList = []\n",
    "    def parseString():\n",
    "        for i in range(len(dateList)):\n",
    "            s = dateList[i].text\n",
    "            ind = s.find('Meeting, ')\n",
    "            if ind != None and ind != -1:\n",
    "                dateStr = s[ind+9:]\n",
    "                dateStr = dateStr[:dateStr.find(',')+6]\n",
    "                if dateStr.find('-') != -1:\n",
    "                    dateStr = dateStr[:dateStr.find('-')] + dateStr[dateStr.find(','):]\n",
    "                dList.append(dateStr)\n",
    "            \n",
    "    parseString() \n",
    "    return dList"
   ]
  },
  {
   "cell_type": "code",
   "execution_count": 4,
   "metadata": {},
   "outputs": [],
   "source": [
    "dateList = getFOMCDates(2000) + getFOMCDates(2010) + [getFOMCDates(2020)[0]]"
   ]
  },
  {
   "cell_type": "code",
   "execution_count": 5,
   "metadata": {},
   "outputs": [],
   "source": [
    "def strToCal(s):\n",
    "    return datetime.strptime(s, '%B %d, %Y')"
   ]
  },
  {
   "cell_type": "code",
   "execution_count": 6,
   "metadata": {},
   "outputs": [],
   "source": [
    "dateTimeList = list(map(strToCal, dateList))"
   ]
  },
  {
   "cell_type": "code",
   "execution_count": 7,
   "metadata": {},
   "outputs": [
    {
     "data": {
      "text/plain": [
       "[datetime.datetime(2000, 2, 1, 0, 0),\n",
       " datetime.datetime(2000, 3, 21, 0, 0),\n",
       " datetime.datetime(2000, 5, 16, 0, 0),\n",
       " datetime.datetime(2000, 6, 27, 0, 0),\n",
       " datetime.datetime(2000, 8, 22, 0, 0),\n",
       " datetime.datetime(2000, 10, 3, 0, 0),\n",
       " datetime.datetime(2000, 11, 15, 0, 0),\n",
       " datetime.datetime(2000, 12, 19, 0, 0),\n",
       " datetime.datetime(2001, 1, 30, 0, 0),\n",
       " datetime.datetime(2001, 3, 20, 0, 0),\n",
       " datetime.datetime(2001, 5, 15, 0, 0),\n",
       " datetime.datetime(2001, 6, 26, 0, 0),\n",
       " datetime.datetime(2001, 8, 21, 0, 0),\n",
       " datetime.datetime(2001, 10, 2, 0, 0),\n",
       " datetime.datetime(2001, 11, 6, 0, 0),\n",
       " datetime.datetime(2001, 12, 11, 0, 0),\n",
       " datetime.datetime(2002, 1, 29, 0, 0),\n",
       " datetime.datetime(2002, 3, 19, 0, 0),\n",
       " datetime.datetime(2002, 5, 7, 0, 0),\n",
       " datetime.datetime(2002, 6, 25, 0, 0),\n",
       " datetime.datetime(2002, 8, 13, 0, 0),\n",
       " datetime.datetime(2002, 9, 24, 0, 0),\n",
       " datetime.datetime(2002, 11, 6, 0, 0),\n",
       " datetime.datetime(2002, 12, 10, 0, 0),\n",
       " datetime.datetime(2003, 1, 28, 0, 0),\n",
       " datetime.datetime(2003, 3, 18, 0, 0),\n",
       " datetime.datetime(2003, 5, 6, 0, 0),\n",
       " datetime.datetime(2003, 6, 24, 0, 0),\n",
       " datetime.datetime(2003, 8, 12, 0, 0),\n",
       " datetime.datetime(2003, 9, 15, 0, 0),\n",
       " datetime.datetime(2003, 9, 16, 0, 0),\n",
       " datetime.datetime(2003, 10, 28, 0, 0),\n",
       " datetime.datetime(2003, 12, 9, 0, 0),\n",
       " datetime.datetime(2004, 1, 27, 0, 0),\n",
       " datetime.datetime(2004, 3, 16, 0, 0),\n",
       " datetime.datetime(2004, 5, 4, 0, 0),\n",
       " datetime.datetime(2004, 6, 29, 0, 0),\n",
       " datetime.datetime(2004, 8, 10, 0, 0),\n",
       " datetime.datetime(2004, 9, 21, 0, 0),\n",
       " datetime.datetime(2004, 11, 10, 0, 0),\n",
       " datetime.datetime(2004, 12, 14, 0, 0),\n",
       " datetime.datetime(2005, 2, 1, 0, 0),\n",
       " datetime.datetime(2005, 3, 22, 0, 0),\n",
       " datetime.datetime(2005, 5, 3, 0, 0),\n",
       " datetime.datetime(2005, 6, 29, 0, 0),\n",
       " datetime.datetime(2005, 8, 9, 0, 0),\n",
       " datetime.datetime(2005, 9, 20, 0, 0),\n",
       " datetime.datetime(2005, 11, 1, 0, 0),\n",
       " datetime.datetime(2005, 12, 13, 0, 0),\n",
       " datetime.datetime(2006, 1, 31, 0, 0),\n",
       " datetime.datetime(2006, 3, 27, 0, 0),\n",
       " datetime.datetime(2006, 5, 10, 0, 0),\n",
       " datetime.datetime(2006, 6, 28, 0, 0),\n",
       " datetime.datetime(2006, 8, 8, 0, 0),\n",
       " datetime.datetime(2006, 9, 20, 0, 0),\n",
       " datetime.datetime(2006, 10, 24, 0, 0),\n",
       " datetime.datetime(2006, 12, 12, 0, 0),\n",
       " datetime.datetime(2007, 1, 30, 0, 0),\n",
       " datetime.datetime(2007, 3, 20, 0, 0),\n",
       " datetime.datetime(2007, 5, 9, 0, 0),\n",
       " datetime.datetime(2007, 6, 27, 0, 0),\n",
       " datetime.datetime(2007, 8, 7, 0, 0),\n",
       " datetime.datetime(2007, 9, 18, 0, 0),\n",
       " datetime.datetime(2007, 10, 30, 0, 0),\n",
       " datetime.datetime(2007, 12, 11, 0, 0),\n",
       " datetime.datetime(2008, 1, 29, 0, 0),\n",
       " datetime.datetime(2008, 3, 18, 0, 0),\n",
       " datetime.datetime(2008, 4, 29, 0, 0),\n",
       " datetime.datetime(2008, 6, 24, 0, 0),\n",
       " datetime.datetime(2008, 8, 5, 0, 0),\n",
       " datetime.datetime(2008, 9, 16, 0, 0),\n",
       " datetime.datetime(2008, 10, 28, 0, 0),\n",
       " datetime.datetime(2008, 12, 15, 0, 0),\n",
       " datetime.datetime(2009, 1, 28, 0, 0),\n",
       " datetime.datetime(2009, 3, 17, 0, 0),\n",
       " datetime.datetime(2009, 4, 28, 0, 0),\n",
       " datetime.datetime(2009, 6, 23, 0, 0),\n",
       " datetime.datetime(2009, 8, 11, 0, 0),\n",
       " datetime.datetime(2009, 9, 22, 0, 0),\n",
       " datetime.datetime(2009, 11, 3, 0, 0),\n",
       " datetime.datetime(2009, 12, 15, 0, 0),\n",
       " datetime.datetime(2010, 1, 26, 0, 0),\n",
       " datetime.datetime(2010, 3, 16, 0, 0),\n",
       " datetime.datetime(2010, 4, 27, 0, 0),\n",
       " datetime.datetime(2010, 6, 23, 0, 0),\n",
       " datetime.datetime(2010, 8, 10, 0, 0),\n",
       " datetime.datetime(2010, 9, 21, 0, 0),\n",
       " datetime.datetime(2010, 11, 2, 0, 0),\n",
       " datetime.datetime(2010, 12, 14, 0, 0),\n",
       " datetime.datetime(2011, 1, 25, 0, 0),\n",
       " datetime.datetime(2011, 3, 15, 0, 0),\n",
       " datetime.datetime(2011, 4, 26, 0, 0),\n",
       " datetime.datetime(2011, 6, 21, 0, 0),\n",
       " datetime.datetime(2011, 8, 9, 0, 0),\n",
       " datetime.datetime(2011, 9, 20, 0, 0),\n",
       " datetime.datetime(2011, 11, 1, 0, 0),\n",
       " datetime.datetime(2011, 12, 13, 0, 0),\n",
       " datetime.datetime(2012, 1, 24, 0, 0),\n",
       " datetime.datetime(2012, 3, 13, 0, 0),\n",
       " datetime.datetime(2012, 4, 24, 0, 0),\n",
       " datetime.datetime(2012, 6, 19, 0, 0),\n",
       " datetime.datetime(2012, 7, 31, 0, 0),\n",
       " datetime.datetime(2012, 9, 12, 0, 0),\n",
       " datetime.datetime(2012, 10, 23, 0, 0),\n",
       " datetime.datetime(2012, 12, 11, 0, 0),\n",
       " datetime.datetime(2013, 1, 29, 0, 0),\n",
       " datetime.datetime(2013, 3, 19, 0, 0),\n",
       " datetime.datetime(2013, 4, 30, 0, 0),\n",
       " datetime.datetime(2013, 6, 18, 0, 0),\n",
       " datetime.datetime(2013, 7, 30, 0, 0),\n",
       " datetime.datetime(2013, 9, 18, 0, 0),\n",
       " datetime.datetime(2013, 10, 29, 0, 0),\n",
       " datetime.datetime(2013, 12, 17, 0, 0),\n",
       " datetime.datetime(2014, 1, 28, 0, 0),\n",
       " datetime.datetime(2014, 3, 18, 0, 0),\n",
       " datetime.datetime(2014, 4, 29, 0, 0),\n",
       " datetime.datetime(2014, 6, 17, 0, 0),\n",
       " datetime.datetime(2014, 7, 29, 0, 0),\n",
       " datetime.datetime(2014, 9, 16, 0, 0),\n",
       " datetime.datetime(2014, 10, 28, 0, 0),\n",
       " datetime.datetime(2014, 12, 16, 0, 0),\n",
       " datetime.datetime(2015, 1, 27, 0, 0),\n",
       " datetime.datetime(2015, 3, 17, 0, 0),\n",
       " datetime.datetime(2015, 4, 28, 0, 0),\n",
       " datetime.datetime(2015, 6, 16, 0, 0),\n",
       " datetime.datetime(2015, 7, 28, 0, 0),\n",
       " datetime.datetime(2015, 9, 16, 0, 0),\n",
       " datetime.datetime(2015, 10, 27, 0, 0),\n",
       " datetime.datetime(2015, 12, 15, 0, 0),\n",
       " datetime.datetime(2016, 1, 26, 0, 0),\n",
       " datetime.datetime(2016, 3, 15, 0, 0),\n",
       " datetime.datetime(2016, 4, 26, 0, 0),\n",
       " datetime.datetime(2016, 6, 14, 0, 0),\n",
       " datetime.datetime(2016, 7, 26, 0, 0),\n",
       " datetime.datetime(2016, 9, 20, 0, 0),\n",
       " datetime.datetime(2016, 11, 1, 0, 0),\n",
       " datetime.datetime(2016, 12, 13, 0, 0),\n",
       " datetime.datetime(2017, 1, 31, 0, 0),\n",
       " datetime.datetime(2017, 3, 14, 0, 0),\n",
       " datetime.datetime(2017, 5, 2, 0, 0),\n",
       " datetime.datetime(2017, 6, 13, 0, 0),\n",
       " datetime.datetime(2017, 7, 25, 0, 0),\n",
       " datetime.datetime(2017, 9, 19, 0, 0),\n",
       " datetime.datetime(2017, 10, 31, 0, 0),\n",
       " datetime.datetime(2017, 12, 12, 0, 0),\n",
       " datetime.datetime(2018, 1, 30, 0, 0),\n",
       " datetime.datetime(2018, 3, 20, 0, 0),\n",
       " datetime.datetime(2018, 5, 1, 0, 0),\n",
       " datetime.datetime(2018, 6, 12, 0, 0),\n",
       " datetime.datetime(2018, 7, 31, 0, 0),\n",
       " datetime.datetime(2018, 9, 25, 0, 0),\n",
       " datetime.datetime(2018, 11, 7, 0, 0),\n",
       " datetime.datetime(2018, 12, 18, 0, 0),\n",
       " datetime.datetime(2019, 1, 29, 0, 0),\n",
       " datetime.datetime(2019, 3, 19, 0, 0),\n",
       " datetime.datetime(2019, 4, 30, 0, 0),\n",
       " datetime.datetime(2019, 6, 18, 0, 0),\n",
       " datetime.datetime(2019, 7, 30, 0, 0),\n",
       " datetime.datetime(2019, 9, 17, 0, 0),\n",
       " datetime.datetime(2019, 10, 4, 0, 0),\n",
       " datetime.datetime(2019, 10, 29, 0, 0),\n",
       " datetime.datetime(2019, 12, 10, 0, 0),\n",
       " datetime.datetime(2020, 1, 28, 0, 0)]"
      ]
     },
     "execution_count": 7,
     "metadata": {},
     "output_type": "execute_result"
    }
   ],
   "source": [
    "dateTimeList"
   ]
  },
  {
   "cell_type": "code",
   "execution_count": 8,
   "metadata": {},
   "outputs": [],
   "source": [
    "dfList = []\n",
    "d = datetime(2002, 12, 10)\n",
    "for elem in dateTimeList:\n",
    "    if elem > d:\n",
    "        dfList.append([None, elem])"
   ]
  },
  {
   "cell_type": "code",
   "execution_count": 9,
   "metadata": {},
   "outputs": [],
   "source": [
    "df = pd.DataFrame(dfList, columns=['Fed. Funds Rate', 'Converted_Datetime'])"
   ]
  },
  {
   "cell_type": "code",
   "execution_count": 10,
   "metadata": {},
   "outputs": [],
   "source": [
    "priceoffutures = pd.read_csv('30-day-fed-funds-futures.csv')"
   ]
  },
  {
   "cell_type": "markdown",
   "metadata": {},
   "source": [
    "# Cleaning & Processing"
   ]
  },
  {
   "cell_type": "code",
   "execution_count": 11,
   "metadata": {},
   "outputs": [],
   "source": [
    "date_time_str = 'January 29, 2003'\n",
    "date_time_obj = datetime.strptime(date_time_str, '%B %d, %Y')"
   ]
  },
  {
   "cell_type": "code",
   "execution_count": 12,
   "metadata": {},
   "outputs": [
    {
     "data": {
      "text/plain": [
       "datetime.datetime(2003, 1, 29, 0, 0)"
      ]
     },
     "execution_count": 12,
     "metadata": {},
     "output_type": "execute_result"
    }
   ],
   "source": [
    "date_time_obj"
   ]
  },
  {
   "cell_type": "code",
   "execution_count": 13,
   "metadata": {},
   "outputs": [],
   "source": [
    "massivechanges['Converted_Datetime'] = massivechanges['Date'].apply(lambda x:datetime.strptime(x, '%B %d, %Y'))"
   ]
  },
  {
   "cell_type": "code",
   "execution_count": 14,
   "metadata": {},
   "outputs": [],
   "source": [
    "del massivechanges['Votes']\n",
    "del massivechanges['Date']\n",
    "del massivechanges['Notes']\n",
    "del massivechanges['Discount Rate']"
   ]
  },
  {
   "cell_type": "code",
   "execution_count": 15,
   "metadata": {},
   "outputs": [
    {
     "data": {
      "text/html": [
       "<div>\n",
       "<style scoped>\n",
       "    .dataframe tbody tr th:only-of-type {\n",
       "        vertical-align: middle;\n",
       "    }\n",
       "\n",
       "    .dataframe tbody tr th {\n",
       "        vertical-align: top;\n",
       "    }\n",
       "\n",
       "    .dataframe thead th {\n",
       "        text-align: right;\n",
       "    }\n",
       "</style>\n",
       "<table border=\"1\" class=\"dataframe\">\n",
       "  <thead>\n",
       "    <tr style=\"text-align: right;\">\n",
       "      <th></th>\n",
       "      <th>Fed. Funds Rate</th>\n",
       "      <th>Converted_Datetime</th>\n",
       "    </tr>\n",
       "  </thead>\n",
       "  <tbody>\n",
       "    <tr>\n",
       "      <th>0</th>\n",
       "      <td>0%–0.25%</td>\n",
       "      <td>2020-03-15</td>\n",
       "    </tr>\n",
       "    <tr>\n",
       "      <th>1</th>\n",
       "      <td>1%–1.25%</td>\n",
       "      <td>2020-03-03</td>\n",
       "    </tr>\n",
       "    <tr>\n",
       "      <th>2</th>\n",
       "      <td>1.50%–1.75%</td>\n",
       "      <td>2019-10-30</td>\n",
       "    </tr>\n",
       "    <tr>\n",
       "      <th>3</th>\n",
       "      <td>1.75%–2.00%</td>\n",
       "      <td>2019-09-18</td>\n",
       "    </tr>\n",
       "    <tr>\n",
       "      <th>4</th>\n",
       "      <td>2.00%–2.25%</td>\n",
       "      <td>2019-07-31</td>\n",
       "    </tr>\n",
       "    <tr>\n",
       "      <th>...</th>\n",
       "      <td>...</td>\n",
       "      <td>...</td>\n",
       "    </tr>\n",
       "    <tr>\n",
       "      <th>61</th>\n",
       "      <td>1.25%</td>\n",
       "      <td>2003-05-06</td>\n",
       "    </tr>\n",
       "    <tr>\n",
       "      <th>62</th>\n",
       "      <td>1.25%</td>\n",
       "      <td>2003-03-18</td>\n",
       "    </tr>\n",
       "    <tr>\n",
       "      <th>63</th>\n",
       "      <td>1.25%</td>\n",
       "      <td>2003-01-29</td>\n",
       "    </tr>\n",
       "    <tr>\n",
       "      <th>64</th>\n",
       "      <td>1.25%</td>\n",
       "      <td>2003-01-09</td>\n",
       "    </tr>\n",
       "    <tr>\n",
       "      <th>65</th>\n",
       "      <td>1.25%</td>\n",
       "      <td>2002-12-10</td>\n",
       "    </tr>\n",
       "  </tbody>\n",
       "</table>\n",
       "<p>66 rows × 2 columns</p>\n",
       "</div>"
      ],
      "text/plain": [
       "   Fed. Funds Rate Converted_Datetime\n",
       "0         0%–0.25%         2020-03-15\n",
       "1         1%–1.25%         2020-03-03\n",
       "2      1.50%–1.75%         2019-10-30\n",
       "3      1.75%–2.00%         2019-09-18\n",
       "4      2.00%–2.25%         2019-07-31\n",
       "..             ...                ...\n",
       "61           1.25%         2003-05-06\n",
       "62           1.25%         2003-03-18\n",
       "63           1.25%         2003-01-29\n",
       "64           1.25%         2003-01-09\n",
       "65           1.25%         2002-12-10\n",
       "\n",
       "[66 rows x 2 columns]"
      ]
     },
     "execution_count": 15,
     "metadata": {},
     "output_type": "execute_result"
    }
   ],
   "source": [
    "massivechanges"
   ]
  },
  {
   "cell_type": "code",
   "execution_count": 16,
   "metadata": {},
   "outputs": [],
   "source": [
    "massivechanges = massivechanges.append(df, ignore_index=True)"
   ]
  },
  {
   "cell_type": "code",
   "execution_count": 17,
   "metadata": {},
   "outputs": [
    {
     "data": {
      "text/html": [
       "<div>\n",
       "<style scoped>\n",
       "    .dataframe tbody tr th:only-of-type {\n",
       "        vertical-align: middle;\n",
       "    }\n",
       "\n",
       "    .dataframe tbody tr th {\n",
       "        vertical-align: top;\n",
       "    }\n",
       "\n",
       "    .dataframe thead th {\n",
       "        text-align: right;\n",
       "    }\n",
       "</style>\n",
       "<table border=\"1\" class=\"dataframe\">\n",
       "  <thead>\n",
       "    <tr style=\"text-align: right;\">\n",
       "      <th></th>\n",
       "      <th>Fed. Funds Rate</th>\n",
       "      <th>Converted_Datetime</th>\n",
       "    </tr>\n",
       "  </thead>\n",
       "  <tbody>\n",
       "    <tr>\n",
       "      <th>0</th>\n",
       "      <td>0%–0.25%</td>\n",
       "      <td>2020-03-15</td>\n",
       "    </tr>\n",
       "    <tr>\n",
       "      <th>1</th>\n",
       "      <td>1%–1.25%</td>\n",
       "      <td>2020-03-03</td>\n",
       "    </tr>\n",
       "    <tr>\n",
       "      <th>2</th>\n",
       "      <td>None</td>\n",
       "      <td>2020-01-28</td>\n",
       "    </tr>\n",
       "    <tr>\n",
       "      <th>3</th>\n",
       "      <td>None</td>\n",
       "      <td>2019-12-10</td>\n",
       "    </tr>\n",
       "    <tr>\n",
       "      <th>4</th>\n",
       "      <td>1.50%–1.75%</td>\n",
       "      <td>2019-10-30</td>\n",
       "    </tr>\n",
       "    <tr>\n",
       "      <th>...</th>\n",
       "      <td>...</td>\n",
       "      <td>...</td>\n",
       "    </tr>\n",
       "    <tr>\n",
       "      <th>200</th>\n",
       "      <td>None</td>\n",
       "      <td>2003-03-18</td>\n",
       "    </tr>\n",
       "    <tr>\n",
       "      <th>201</th>\n",
       "      <td>1.25%</td>\n",
       "      <td>2003-01-29</td>\n",
       "    </tr>\n",
       "    <tr>\n",
       "      <th>202</th>\n",
       "      <td>None</td>\n",
       "      <td>2003-01-28</td>\n",
       "    </tr>\n",
       "    <tr>\n",
       "      <th>203</th>\n",
       "      <td>1.25%</td>\n",
       "      <td>2003-01-09</td>\n",
       "    </tr>\n",
       "    <tr>\n",
       "      <th>204</th>\n",
       "      <td>1.25%</td>\n",
       "      <td>2002-12-10</td>\n",
       "    </tr>\n",
       "  </tbody>\n",
       "</table>\n",
       "<p>205 rows × 2 columns</p>\n",
       "</div>"
      ],
      "text/plain": [
       "    Fed. Funds Rate Converted_Datetime\n",
       "0          0%–0.25%         2020-03-15\n",
       "1          1%–1.25%         2020-03-03\n",
       "2              None         2020-01-28\n",
       "3              None         2019-12-10\n",
       "4       1.50%–1.75%         2019-10-30\n",
       "..              ...                ...\n",
       "200            None         2003-03-18\n",
       "201           1.25%         2003-01-29\n",
       "202            None         2003-01-28\n",
       "203           1.25%         2003-01-09\n",
       "204           1.25%         2002-12-10\n",
       "\n",
       "[205 rows x 2 columns]"
      ]
     },
     "execution_count": 17,
     "metadata": {},
     "output_type": "execute_result"
    }
   ],
   "source": [
    "massivechanges.sort_values(by='Converted_Datetime', ascending=False, inplace=True, ignore_index=True)\n",
    "\n",
    "massivechanges"
   ]
  },
  {
   "cell_type": "code",
   "execution_count": 18,
   "metadata": {},
   "outputs": [
    {
     "data": {
      "text/html": [
       "<div>\n",
       "<style scoped>\n",
       "    .dataframe tbody tr th:only-of-type {\n",
       "        vertical-align: middle;\n",
       "    }\n",
       "\n",
       "    .dataframe tbody tr th {\n",
       "        vertical-align: top;\n",
       "    }\n",
       "\n",
       "    .dataframe thead th {\n",
       "        text-align: right;\n",
       "    }\n",
       "</style>\n",
       "<table border=\"1\" class=\"dataframe\">\n",
       "  <thead>\n",
       "    <tr style=\"text-align: right;\">\n",
       "      <th></th>\n",
       "      <th>Fed. Funds Rate</th>\n",
       "      <th>Converted_Datetime</th>\n",
       "    </tr>\n",
       "  </thead>\n",
       "  <tbody>\n",
       "    <tr>\n",
       "      <th>0</th>\n",
       "      <td>1.25%</td>\n",
       "      <td>2002-12-10</td>\n",
       "    </tr>\n",
       "    <tr>\n",
       "      <th>1</th>\n",
       "      <td>1.25%</td>\n",
       "      <td>2003-01-09</td>\n",
       "    </tr>\n",
       "    <tr>\n",
       "      <th>2</th>\n",
       "      <td>1.25%</td>\n",
       "      <td>2003-01-29</td>\n",
       "    </tr>\n",
       "    <tr>\n",
       "      <th>3</th>\n",
       "      <td>1.25%</td>\n",
       "      <td>2003-03-18</td>\n",
       "    </tr>\n",
       "    <tr>\n",
       "      <th>4</th>\n",
       "      <td>1.25%</td>\n",
       "      <td>2003-05-06</td>\n",
       "    </tr>\n",
       "    <tr>\n",
       "      <th>...</th>\n",
       "      <td>...</td>\n",
       "      <td>...</td>\n",
       "    </tr>\n",
       "    <tr>\n",
       "      <th>141</th>\n",
       "      <td>1.50%–1.75%</td>\n",
       "      <td>2019-10-30</td>\n",
       "    </tr>\n",
       "    <tr>\n",
       "      <th>142</th>\n",
       "      <td>1.50%–1.75%</td>\n",
       "      <td>2019-12-10</td>\n",
       "    </tr>\n",
       "    <tr>\n",
       "      <th>143</th>\n",
       "      <td>1.50%–1.75%</td>\n",
       "      <td>2020-01-28</td>\n",
       "    </tr>\n",
       "    <tr>\n",
       "      <th>144</th>\n",
       "      <td>1%–1.25%</td>\n",
       "      <td>2020-03-03</td>\n",
       "    </tr>\n",
       "    <tr>\n",
       "      <th>145</th>\n",
       "      <td>0%–0.25%</td>\n",
       "      <td>2020-03-15</td>\n",
       "    </tr>\n",
       "  </tbody>\n",
       "</table>\n",
       "<p>146 rows × 2 columns</p>\n",
       "</div>"
      ],
      "text/plain": [
       "    Fed. Funds Rate Converted_Datetime\n",
       "0             1.25%         2002-12-10\n",
       "1             1.25%         2003-01-09\n",
       "2             1.25%         2003-01-29\n",
       "3             1.25%         2003-03-18\n",
       "4             1.25%         2003-05-06\n",
       "..              ...                ...\n",
       "141     1.50%–1.75%         2019-10-30\n",
       "142     1.50%–1.75%         2019-12-10\n",
       "143     1.50%–1.75%         2020-01-28\n",
       "144        1%–1.25%         2020-03-03\n",
       "145        0%–0.25%         2020-03-15\n",
       "\n",
       "[146 rows x 2 columns]"
      ]
     },
     "execution_count": 18,
     "metadata": {},
     "output_type": "execute_result"
    }
   ],
   "source": [
    "bigChanges = massivechanges.sort_values(by='Converted_Datetime', ignore_index=True)\n",
    "\n",
    "newDf = pd.DataFrame(columns=['Fed. Funds Rate', ])\n",
    "\n",
    "for index, row in bigChanges.iterrows():\n",
    "    if pd.isnull(row['Fed. Funds Rate']):\n",
    "        if row['Converted_Datetime'] == bigChanges.iloc[index+1, 1] or row['Converted_Datetime'] == bigChanges.iloc[index+1, 1] + timedelta(days=-1):\n",
    "            continue\n",
    "        else:\n",
    "            bigChanges.iloc[index, 0] = bigChanges.iloc[index-1, 0]\n",
    "\n",
    "bigChanges.dropna(inplace=True)\n",
    "bigChanges.drop_duplicates(inplace=True, ignore_index=True)\n",
    "bigChanges"
   ]
  },
  {
   "cell_type": "code",
   "execution_count": 19,
   "metadata": {},
   "outputs": [],
   "source": [
    "massivechanges = bigChanges.sort_values(by='Converted_Datetime', ascending=False, ignore_index=True)"
   ]
  },
  {
   "cell_type": "code",
   "execution_count": 20,
   "metadata": {},
   "outputs": [
    {
     "data": {
      "text/html": [
       "<div>\n",
       "<style scoped>\n",
       "    .dataframe tbody tr th:only-of-type {\n",
       "        vertical-align: middle;\n",
       "    }\n",
       "\n",
       "    .dataframe tbody tr th {\n",
       "        vertical-align: top;\n",
       "    }\n",
       "\n",
       "    .dataframe thead th {\n",
       "        text-align: right;\n",
       "    }\n",
       "</style>\n",
       "<table border=\"1\" class=\"dataframe\">\n",
       "  <thead>\n",
       "    <tr style=\"text-align: right;\">\n",
       "      <th></th>\n",
       "      <th>Fed. Funds Rate</th>\n",
       "      <th>Converted_Datetime</th>\n",
       "    </tr>\n",
       "  </thead>\n",
       "  <tbody>\n",
       "    <tr>\n",
       "      <th>0</th>\n",
       "      <td>0%–0.25%</td>\n",
       "      <td>2020-03-15</td>\n",
       "    </tr>\n",
       "    <tr>\n",
       "      <th>1</th>\n",
       "      <td>1%–1.25%</td>\n",
       "      <td>2020-03-03</td>\n",
       "    </tr>\n",
       "    <tr>\n",
       "      <th>2</th>\n",
       "      <td>1.50%–1.75%</td>\n",
       "      <td>2020-01-28</td>\n",
       "    </tr>\n",
       "    <tr>\n",
       "      <th>3</th>\n",
       "      <td>1.50%–1.75%</td>\n",
       "      <td>2019-12-10</td>\n",
       "    </tr>\n",
       "    <tr>\n",
       "      <th>4</th>\n",
       "      <td>1.50%–1.75%</td>\n",
       "      <td>2019-10-30</td>\n",
       "    </tr>\n",
       "    <tr>\n",
       "      <th>...</th>\n",
       "      <td>...</td>\n",
       "      <td>...</td>\n",
       "    </tr>\n",
       "    <tr>\n",
       "      <th>141</th>\n",
       "      <td>1.25%</td>\n",
       "      <td>2003-05-06</td>\n",
       "    </tr>\n",
       "    <tr>\n",
       "      <th>142</th>\n",
       "      <td>1.25%</td>\n",
       "      <td>2003-03-18</td>\n",
       "    </tr>\n",
       "    <tr>\n",
       "      <th>143</th>\n",
       "      <td>1.25%</td>\n",
       "      <td>2003-01-29</td>\n",
       "    </tr>\n",
       "    <tr>\n",
       "      <th>144</th>\n",
       "      <td>1.25%</td>\n",
       "      <td>2003-01-09</td>\n",
       "    </tr>\n",
       "    <tr>\n",
       "      <th>145</th>\n",
       "      <td>1.25%</td>\n",
       "      <td>2002-12-10</td>\n",
       "    </tr>\n",
       "  </tbody>\n",
       "</table>\n",
       "<p>146 rows × 2 columns</p>\n",
       "</div>"
      ],
      "text/plain": [
       "    Fed. Funds Rate Converted_Datetime\n",
       "0          0%–0.25%         2020-03-15\n",
       "1          1%–1.25%         2020-03-03\n",
       "2       1.50%–1.75%         2020-01-28\n",
       "3       1.50%–1.75%         2019-12-10\n",
       "4       1.50%–1.75%         2019-10-30\n",
       "..              ...                ...\n",
       "141           1.25%         2003-05-06\n",
       "142           1.25%         2003-03-18\n",
       "143           1.25%         2003-01-29\n",
       "144           1.25%         2003-01-09\n",
       "145           1.25%         2002-12-10\n",
       "\n",
       "[146 rows x 2 columns]"
      ]
     },
     "execution_count": 20,
     "metadata": {},
     "output_type": "execute_result"
    }
   ],
   "source": [
    "massivechanges"
   ]
  },
  {
   "cell_type": "code",
   "execution_count": 21,
   "metadata": {},
   "outputs": [],
   "source": [
    "priceoffutures['Date'] = priceoffutures['date'].apply(lambda x:datetime.strptime(x, '%m/%d/%Y'))"
   ]
  },
  {
   "cell_type": "code",
   "execution_count": 22,
   "metadata": {},
   "outputs": [],
   "source": [
    "del priceoffutures['date']"
   ]
  },
  {
   "cell_type": "code",
   "execution_count": 23,
   "metadata": {},
   "outputs": [],
   "source": [
    "def parsestring(s):\n",
    "    if chr(8211) in s:\n",
    "        wow = s.split(chr(8211))\n",
    "        s1 = wow[0][:-1]\n",
    "        s2 = wow[1][:-1]\n",
    "        return (float(s1) + float(s2)) / 2\n",
    "    else:\n",
    "        return float(s[:-1])"
   ]
  },
  {
   "cell_type": "code",
   "execution_count": 24,
   "metadata": {
    "scrolled": true
   },
   "outputs": [],
   "source": [
    "massivechanges['Rate'] = massivechanges['Fed. Funds Rate'].apply(parsestring)"
   ]
  },
  {
   "cell_type": "code",
   "execution_count": 25,
   "metadata": {},
   "outputs": [],
   "source": [
    "del massivechanges['Fed. Funds Rate']"
   ]
  },
  {
   "cell_type": "code",
   "execution_count": 26,
   "metadata": {},
   "outputs": [
    {
     "data": {
      "text/html": [
       "<div>\n",
       "<style scoped>\n",
       "    .dataframe tbody tr th:only-of-type {\n",
       "        vertical-align: middle;\n",
       "    }\n",
       "\n",
       "    .dataframe tbody tr th {\n",
       "        vertical-align: top;\n",
       "    }\n",
       "\n",
       "    .dataframe thead th {\n",
       "        text-align: right;\n",
       "    }\n",
       "</style>\n",
       "<table border=\"1\" class=\"dataframe\">\n",
       "  <thead>\n",
       "    <tr style=\"text-align: right;\">\n",
       "      <th></th>\n",
       "      <th>Converted_Datetime</th>\n",
       "      <th>Rate</th>\n",
       "    </tr>\n",
       "  </thead>\n",
       "  <tbody>\n",
       "    <tr>\n",
       "      <th>0</th>\n",
       "      <td>2020-03-15</td>\n",
       "      <td>0.125</td>\n",
       "    </tr>\n",
       "    <tr>\n",
       "      <th>1</th>\n",
       "      <td>2020-03-03</td>\n",
       "      <td>1.125</td>\n",
       "    </tr>\n",
       "    <tr>\n",
       "      <th>2</th>\n",
       "      <td>2020-01-28</td>\n",
       "      <td>1.625</td>\n",
       "    </tr>\n",
       "    <tr>\n",
       "      <th>3</th>\n",
       "      <td>2019-12-10</td>\n",
       "      <td>1.625</td>\n",
       "    </tr>\n",
       "    <tr>\n",
       "      <th>4</th>\n",
       "      <td>2019-10-30</td>\n",
       "      <td>1.625</td>\n",
       "    </tr>\n",
       "    <tr>\n",
       "      <th>...</th>\n",
       "      <td>...</td>\n",
       "      <td>...</td>\n",
       "    </tr>\n",
       "    <tr>\n",
       "      <th>141</th>\n",
       "      <td>2003-05-06</td>\n",
       "      <td>1.250</td>\n",
       "    </tr>\n",
       "    <tr>\n",
       "      <th>142</th>\n",
       "      <td>2003-03-18</td>\n",
       "      <td>1.250</td>\n",
       "    </tr>\n",
       "    <tr>\n",
       "      <th>143</th>\n",
       "      <td>2003-01-29</td>\n",
       "      <td>1.250</td>\n",
       "    </tr>\n",
       "    <tr>\n",
       "      <th>144</th>\n",
       "      <td>2003-01-09</td>\n",
       "      <td>1.250</td>\n",
       "    </tr>\n",
       "    <tr>\n",
       "      <th>145</th>\n",
       "      <td>2002-12-10</td>\n",
       "      <td>1.250</td>\n",
       "    </tr>\n",
       "  </tbody>\n",
       "</table>\n",
       "<p>146 rows × 2 columns</p>\n",
       "</div>"
      ],
      "text/plain": [
       "    Converted_Datetime   Rate\n",
       "0           2020-03-15  0.125\n",
       "1           2020-03-03  1.125\n",
       "2           2020-01-28  1.625\n",
       "3           2019-12-10  1.625\n",
       "4           2019-10-30  1.625\n",
       "..                 ...    ...\n",
       "141         2003-05-06  1.250\n",
       "142         2003-03-18  1.250\n",
       "143         2003-01-29  1.250\n",
       "144         2003-01-09  1.250\n",
       "145         2002-12-10  1.250\n",
       "\n",
       "[146 rows x 2 columns]"
      ]
     },
     "execution_count": 26,
     "metadata": {},
     "output_type": "execute_result"
    }
   ],
   "source": [
    "massivechanges"
   ]
  },
  {
   "cell_type": "code",
   "execution_count": 27,
   "metadata": {},
   "outputs": [],
   "source": [
    "priceoffutures_dict = {}\n",
    "for i in range(priceoffutures.shape[0]):\n",
    "    priceoffutures_dict[priceoffutures['Date'][i]] = priceoffutures[' value'][i]"
   ]
  },
  {
   "cell_type": "code",
   "execution_count": 28,
   "metadata": {},
   "outputs": [],
   "source": [
    "massivechanges['DayofWeek'] = massivechanges['Converted_Datetime'].apply(lambda x : datetime.weekday(x))"
   ]
  },
  {
   "cell_type": "code",
   "execution_count": 29,
   "metadata": {},
   "outputs": [
    {
     "data": {
      "text/html": [
       "<div>\n",
       "<style scoped>\n",
       "    .dataframe tbody tr th:only-of-type {\n",
       "        vertical-align: middle;\n",
       "    }\n",
       "\n",
       "    .dataframe tbody tr th {\n",
       "        vertical-align: top;\n",
       "    }\n",
       "\n",
       "    .dataframe thead th {\n",
       "        text-align: right;\n",
       "    }\n",
       "</style>\n",
       "<table border=\"1\" class=\"dataframe\">\n",
       "  <thead>\n",
       "    <tr style=\"text-align: right;\">\n",
       "      <th></th>\n",
       "      <th>value</th>\n",
       "      <th>Date</th>\n",
       "    </tr>\n",
       "  </thead>\n",
       "  <tbody>\n",
       "    <tr>\n",
       "      <th>0</th>\n",
       "      <td>91.710</td>\n",
       "      <td>1988-10-03</td>\n",
       "    </tr>\n",
       "    <tr>\n",
       "      <th>1</th>\n",
       "      <td>91.710</td>\n",
       "      <td>1988-10-04</td>\n",
       "    </tr>\n",
       "    <tr>\n",
       "      <th>2</th>\n",
       "      <td>91.730</td>\n",
       "      <td>1988-10-05</td>\n",
       "    </tr>\n",
       "    <tr>\n",
       "      <th>3</th>\n",
       "      <td>91.700</td>\n",
       "      <td>1988-10-06</td>\n",
       "    </tr>\n",
       "    <tr>\n",
       "      <th>4</th>\n",
       "      <td>91.780</td>\n",
       "      <td>1988-10-07</td>\n",
       "    </tr>\n",
       "    <tr>\n",
       "      <th>...</th>\n",
       "      <td>...</td>\n",
       "      <td>...</td>\n",
       "    </tr>\n",
       "    <tr>\n",
       "      <th>8004</th>\n",
       "      <td>99.920</td>\n",
       "      <td>2020-07-23</td>\n",
       "    </tr>\n",
       "    <tr>\n",
       "      <th>8005</th>\n",
       "      <td>99.920</td>\n",
       "      <td>2020-07-24</td>\n",
       "    </tr>\n",
       "    <tr>\n",
       "      <th>8006</th>\n",
       "      <td>99.925</td>\n",
       "      <td>2020-07-27</td>\n",
       "    </tr>\n",
       "    <tr>\n",
       "      <th>8007</th>\n",
       "      <td>99.922</td>\n",
       "      <td>2020-07-28</td>\n",
       "    </tr>\n",
       "    <tr>\n",
       "      <th>8008</th>\n",
       "      <td>99.924</td>\n",
       "      <td>2020-07-29</td>\n",
       "    </tr>\n",
       "  </tbody>\n",
       "</table>\n",
       "<p>8009 rows × 2 columns</p>\n",
       "</div>"
      ],
      "text/plain": [
       "       value       Date\n",
       "0     91.710 1988-10-03\n",
       "1     91.710 1988-10-04\n",
       "2     91.730 1988-10-05\n",
       "3     91.700 1988-10-06\n",
       "4     91.780 1988-10-07\n",
       "...      ...        ...\n",
       "8004  99.920 2020-07-23\n",
       "8005  99.920 2020-07-24\n",
       "8006  99.925 2020-07-27\n",
       "8007  99.922 2020-07-28\n",
       "8008  99.924 2020-07-29\n",
       "\n",
       "[8009 rows x 2 columns]"
      ]
     },
     "execution_count": 29,
     "metadata": {},
     "output_type": "execute_result"
    }
   ],
   "source": [
    "priceoffutures\n"
   ]
  },
  {
   "cell_type": "code",
   "execution_count": 30,
   "metadata": {},
   "outputs": [],
   "source": [
    "def rowinpriceoffutures(i):\n",
    "    for j in range(len(priceoffutures['Date'])):\n",
    "        if priceoffutures['Date'][j] > i:\n",
    "            return j-1\n",
    "    return -1"
   ]
  },
  {
   "cell_type": "code",
   "execution_count": 31,
   "metadata": {},
   "outputs": [],
   "source": [
    "massivechanges['rowinpriceoffutures'] = massivechanges['Converted_Datetime'].apply(lambda x : rowinpriceoffutures(x))"
   ]
  },
  {
   "cell_type": "code",
   "execution_count": 32,
   "metadata": {},
   "outputs": [],
   "source": [
    "returnlist = []\n",
    "for i in range(len(massivechanges['rowinpriceoffutures'])):\n",
    "    if massivechanges['DayofWeek'][i] == 5 or massivechanges['DayofWeek'][i] == 6:\n",
    "        returnlist.append(priceoffutures['Date'][massivechanges['rowinpriceoffutures'][i]])\n",
    "    else:\n",
    "        returnlist.append(priceoffutures['Date'][massivechanges['rowinpriceoffutures'][i]-1])\n",
    "\n",
    "massivechanges['Day before'] = pd.Series(returnlist)\n"
   ]
  },
  {
   "cell_type": "code",
   "execution_count": 33,
   "metadata": {},
   "outputs": [],
   "source": [
    "returnlist = []\n",
    "for i in range(len(massivechanges['rowinpriceoffutures'])):\n",
    "        returnlist.append(priceoffutures['Date'][massivechanges['rowinpriceoffutures'][i]+1])\n",
    "\n",
    "massivechanges['Day after'] = pd.Series(returnlist)"
   ]
  },
  {
   "cell_type": "code",
   "execution_count": 34,
   "metadata": {},
   "outputs": [],
   "source": [
    "massivechanges['Ratedaybefore'] = massivechanges['Day before'].apply(lambda x : priceoffutures_dict[x])"
   ]
  },
  {
   "cell_type": "code",
   "execution_count": 35,
   "metadata": {},
   "outputs": [],
   "source": [
    "massivechanges['Ratedayafter'] = massivechanges['Day after'].apply(lambda x : priceoffutures_dict[x])"
   ]
  },
  {
   "cell_type": "code",
   "execution_count": 36,
   "metadata": {},
   "outputs": [],
   "source": [
    "massivechanges['difference'] = massivechanges['Ratedayafter'] - massivechanges['Ratedaybefore']"
   ]
  },
  {
   "cell_type": "code",
   "execution_count": 37,
   "metadata": {},
   "outputs": [
    {
     "data": {
      "image/png": "[encoded data removed]",
      "text/plain": [
       "<Figure size 432x288 with 1 Axes>"
      ]
     },
     "metadata": {
      "needs_background": "light"
     },
     "output_type": "display_data"
    }
   ],
   "source": [
    "plt.scatter(massivechanges['Rate'], massivechanges['difference'])\n",
    "plt.show()"
   ]
  },
  {
   "cell_type": "code",
   "execution_count": 38,
   "metadata": {},
   "outputs": [
    {
     "data": {
      "image/png": "[encoded data removed]",
      "text/plain": [
       "<Figure size 432x288 with 1 Axes>"
      ]
     },
     "metadata": {
      "needs_background": "light"
     },
     "output_type": "display_data"
    }
   ],
   "source": [
    "plt.scatter(massivechanges['Converted_Datetime'], massivechanges['difference'])\n",
    "plt.show()"
   ]
  },
  {
   "cell_type": "code",
   "execution_count": 39,
   "metadata": {},
   "outputs": [
    {
     "data": {
      "image/png": "[encoded data removed]",
      "text/plain": [
       "<Figure size 432x288 with 1 Axes>"
      ]
     },
     "metadata": {
      "needs_background": "light"
     },
     "output_type": "display_data"
    }
   ],
   "source": [
    "plt.scatter(massivechanges['Converted_Datetime'], massivechanges['Rate'])\n",
    "plt.show()"
   ]
  },
  {
   "cell_type": "code",
   "execution_count": 40,
   "metadata": {},
   "outputs": [],
   "source": [
    "returnlist = []\n",
    "for i in range(len(massivechanges['Rate'])):\n",
    "    if i == len(massivechanges['Rate'])-1:\n",
    "        returnlist.append(0)\n",
    "    else:\n",
    "        returnlist.append(massivechanges['Rate'][i] - massivechanges['Rate'][i+1])\n",
    "massivechanges['Rate Changes'] = pd.Series(returnlist)"
   ]
  },
  {
   "cell_type": "code",
   "execution_count": 41,
   "metadata": {},
   "outputs": [
    {
     "data": {
      "image/png": "[encoded data removed]",
      "text/plain": [
       "<Figure size 432x288 with 1 Axes>"
      ]
     },
     "metadata": {
      "needs_background": "light"
     },
     "output_type": "display_data"
    }
   ],
   "source": [
    "plt.scatter(massivechanges['Rate Changes'], massivechanges['difference'])\n",
    "plt.show()"
   ]
  },
  {
   "cell_type": "code",
   "execution_count": 42,
   "metadata": {},
   "outputs": [
    {
     "data": {
      "text/html": [
       "<div>\n",
       "<style scoped>\n",
       "    .dataframe tbody tr th:only-of-type {\n",
       "        vertical-align: middle;\n",
       "    }\n",
       "\n",
       "    .dataframe tbody tr th {\n",
       "        vertical-align: top;\n",
       "    }\n",
       "\n",
       "    .dataframe thead th {\n",
       "        text-align: right;\n",
       "    }\n",
       "</style>\n",
       "<table border=\"1\" class=\"dataframe\">\n",
       "  <thead>\n",
       "    <tr style=\"text-align: right;\">\n",
       "      <th></th>\n",
       "      <th>Converted_Datetime</th>\n",
       "      <th>Rate</th>\n",
       "      <th>DayofWeek</th>\n",
       "      <th>rowinpriceoffutures</th>\n",
       "      <th>Day before</th>\n",
       "      <th>Day after</th>\n",
       "      <th>Ratedaybefore</th>\n",
       "      <th>Ratedayafter</th>\n",
       "      <th>difference</th>\n",
       "      <th>Rate Changes</th>\n",
       "    </tr>\n",
       "  </thead>\n",
       "  <tbody>\n",
       "    <tr>\n",
       "      <th>0</th>\n",
       "      <td>2020-03-15</td>\n",
       "      <td>0.125</td>\n",
       "      <td>6</td>\n",
       "      <td>7913</td>\n",
       "      <td>2020-03-13</td>\n",
       "      <td>2020-03-16</td>\n",
       "      <td>99.840</td>\n",
       "      <td>99.8950</td>\n",
       "      <td>0.0550</td>\n",
       "      <td>-1.00</td>\n",
       "    </tr>\n",
       "    <tr>\n",
       "      <th>1</th>\n",
       "      <td>2020-03-03</td>\n",
       "      <td>1.125</td>\n",
       "      <td>1</td>\n",
       "      <td>7905</td>\n",
       "      <td>2020-03-02</td>\n",
       "      <td>2020-03-04</td>\n",
       "      <td>98.910</td>\n",
       "      <td>99.2200</td>\n",
       "      <td>0.3100</td>\n",
       "      <td>-0.50</td>\n",
       "    </tr>\n",
       "    <tr>\n",
       "      <th>2</th>\n",
       "      <td>2020-01-28</td>\n",
       "      <td>1.625</td>\n",
       "      <td>1</td>\n",
       "      <td>7881</td>\n",
       "      <td>2020-01-27</td>\n",
       "      <td>2020-01-29</td>\n",
       "      <td>98.425</td>\n",
       "      <td>98.4090</td>\n",
       "      <td>-0.0160</td>\n",
       "      <td>0.00</td>\n",
       "    </tr>\n",
       "    <tr>\n",
       "      <th>3</th>\n",
       "      <td>2019-12-10</td>\n",
       "      <td>1.625</td>\n",
       "      <td>1</td>\n",
       "      <td>7849</td>\n",
       "      <td>2019-12-09</td>\n",
       "      <td>2019-12-11</td>\n",
       "      <td>98.440</td>\n",
       "      <td>98.4350</td>\n",
       "      <td>-0.0050</td>\n",
       "      <td>0.00</td>\n",
       "    </tr>\n",
       "    <tr>\n",
       "      <th>4</th>\n",
       "      <td>2019-10-30</td>\n",
       "      <td>1.625</td>\n",
       "      <td>2</td>\n",
       "      <td>7821</td>\n",
       "      <td>2019-10-29</td>\n",
       "      <td>2019-10-31</td>\n",
       "      <td>98.407</td>\n",
       "      <td>98.4425</td>\n",
       "      <td>0.0355</td>\n",
       "      <td>-0.25</td>\n",
       "    </tr>\n",
       "    <tr>\n",
       "      <th>...</th>\n",
       "      <td>...</td>\n",
       "      <td>...</td>\n",
       "      <td>...</td>\n",
       "      <td>...</td>\n",
       "      <td>...</td>\n",
       "      <td>...</td>\n",
       "      <td>...</td>\n",
       "      <td>...</td>\n",
       "      <td>...</td>\n",
       "      <td>...</td>\n",
       "    </tr>\n",
       "    <tr>\n",
       "      <th>141</th>\n",
       "      <td>2003-05-06</td>\n",
       "      <td>1.250</td>\n",
       "      <td>1</td>\n",
       "      <td>3671</td>\n",
       "      <td>2003-05-05</td>\n",
       "      <td>2003-05-07</td>\n",
       "      <td>98.825</td>\n",
       "      <td>98.7900</td>\n",
       "      <td>-0.0350</td>\n",
       "      <td>0.00</td>\n",
       "    </tr>\n",
       "    <tr>\n",
       "      <th>142</th>\n",
       "      <td>2003-03-18</td>\n",
       "      <td>1.250</td>\n",
       "      <td>1</td>\n",
       "      <td>3637</td>\n",
       "      <td>2003-03-17</td>\n",
       "      <td>2003-03-19</td>\n",
       "      <td>98.830</td>\n",
       "      <td>98.8050</td>\n",
       "      <td>-0.0250</td>\n",
       "      <td>0.00</td>\n",
       "    </tr>\n",
       "    <tr>\n",
       "      <th>143</th>\n",
       "      <td>2003-01-29</td>\n",
       "      <td>1.250</td>\n",
       "      <td>2</td>\n",
       "      <td>3604</td>\n",
       "      <td>2003-01-28</td>\n",
       "      <td>2003-01-30</td>\n",
       "      <td>98.780</td>\n",
       "      <td>98.7820</td>\n",
       "      <td>0.0020</td>\n",
       "      <td>0.00</td>\n",
       "    </tr>\n",
       "    <tr>\n",
       "      <th>144</th>\n",
       "      <td>2003-01-09</td>\n",
       "      <td>1.250</td>\n",
       "      <td>3</td>\n",
       "      <td>3591</td>\n",
       "      <td>2003-01-08</td>\n",
       "      <td>2003-01-10</td>\n",
       "      <td>98.775</td>\n",
       "      <td>98.7700</td>\n",
       "      <td>-0.0050</td>\n",
       "      <td>0.00</td>\n",
       "    </tr>\n",
       "    <tr>\n",
       "      <th>145</th>\n",
       "      <td>2002-12-10</td>\n",
       "      <td>1.250</td>\n",
       "      <td>1</td>\n",
       "      <td>3571</td>\n",
       "      <td>2002-12-09</td>\n",
       "      <td>2002-12-11</td>\n",
       "      <td>98.765</td>\n",
       "      <td>98.7650</td>\n",
       "      <td>0.0000</td>\n",
       "      <td>0.00</td>\n",
       "    </tr>\n",
       "  </tbody>\n",
       "</table>\n",
       "<p>146 rows × 10 columns</p>\n",
       "</div>"
      ],
      "text/plain": [
       "    Converted_Datetime   Rate  DayofWeek  rowinpriceoffutures Day before  \\\n",
       "0           2020-03-15  0.125          6                 7913 2020-03-13   \n",
       "1           2020-03-03  1.125          1                 7905 2020-03-02   \n",
       "2           2020-01-28  1.625          1                 7881 2020-01-27   \n",
       "3           2019-12-10  1.625          1                 7849 2019-12-09   \n",
       "4           2019-10-30  1.625          2                 7821 2019-10-29   \n",
       "..                 ...    ...        ...                  ...        ...   \n",
       "141         2003-05-06  1.250          1                 3671 2003-05-05   \n",
       "142         2003-03-18  1.250          1                 3637 2003-03-17   \n",
       "143         2003-01-29  1.250          2                 3604 2003-01-28   \n",
       "144         2003-01-09  1.250          3                 3591 2003-01-08   \n",
       "145         2002-12-10  1.250          1                 3571 2002-12-09   \n",
       "\n",
       "     Day after  Ratedaybefore  Ratedayafter  difference  Rate Changes  \n",
       "0   2020-03-16         99.840       99.8950      0.0550         -1.00  \n",
       "1   2020-03-04         98.910       99.2200      0.3100         -0.50  \n",
       "2   2020-01-29         98.425       98.4090     -0.0160          0.00  \n",
       "3   2019-12-11         98.440       98.4350     -0.0050          0.00  \n",
       "4   2019-10-31         98.407       98.4425      0.0355         -0.25  \n",
       "..         ...            ...           ...         ...           ...  \n",
       "141 2003-05-07         98.825       98.7900     -0.0350          0.00  \n",
       "142 2003-03-19         98.830       98.8050     -0.0250          0.00  \n",
       "143 2003-01-30         98.780       98.7820      0.0020          0.00  \n",
       "144 2003-01-10         98.775       98.7700     -0.0050          0.00  \n",
       "145 2002-12-11         98.765       98.7650      0.0000          0.00  \n",
       "\n",
       "[146 rows x 10 columns]"
      ]
     },
     "execution_count": 42,
     "metadata": {},
     "output_type": "execute_result"
    }
   ],
   "source": [
    "massivechanges"
   ]
  },
  {
   "cell_type": "markdown",
   "metadata": {},
   "source": [
    "# Figures"
   ]
  },
  {
   "cell_type": "markdown",
   "metadata": {},
   "source": [
    "## Rate change on difference (before - after)"
   ]
  },
  {
   "cell_type": "code",
   "execution_count": 43,
   "metadata": {},
   "outputs": [],
   "source": [
    "x = massivechanges['Rate Changes']\n",
    "y = massivechanges['difference']\n",
    "xVal, yVal = zip(*sorted((xVal, np.mean([yVal for a, yVal in zip(x, y) if xVal==a])) for xVal in set(x)))"
   ]
  },
  {
   "cell_type": "code",
   "execution_count": 44,
   "metadata": {},
   "outputs": [
    {
     "data": {
      "text/plain": [
       "<matplotlib.axes._subplots.AxesSubplot at 0x1a25ffc210>"
      ]
     },
     "execution_count": 44,
     "metadata": {},
     "output_type": "execute_result"
    },
    {
     "data": {
      "image/png": "[encoded data removed]",
      "text/plain": [
       "<Figure size 432x288 with 1 Axes>"
      ]
     },
     "metadata": {
      "needs_background": "light"
     },
     "output_type": "display_data"
    }
   ],
   "source": [
    "sns.lineplot(x=xVal, y=yVal)\n",
    "sns.scatterplot(x='Rate Changes', y='difference', data=massivechanges)"
   ]
  },
  {
   "cell_type": "code",
   "execution_count": 45,
   "metadata": {},
   "outputs": [],
   "source": [
    "x_np = (massivechanges['Rate Changes']).to_numpy()\n",
    "y_np = massivechanges['difference'].to_numpy()"
   ]
  },
  {
   "cell_type": "code",
   "execution_count": 46,
   "metadata": {},
   "outputs": [],
   "source": [
    "m, b = np.polyfit(x_np, y_np, 1)"
   ]
  },
  {
   "cell_type": "code",
   "execution_count": 47,
   "metadata": {
    "scrolled": true
   },
   "outputs": [
    {
     "name": "stderr",
     "output_type": "stream",
     "text": [
      "/opt/anaconda3/envs/venv/lib/python3.7/site-packages/matplotlib/cbook/__init__.py:1402: FutureWarning: Support for multi-dimensional indexing (e.g. `obj[:, None]`) is deprecated and will be removed in a future version.  Convert to a numpy array before indexing instead.\n",
      "  ndim = x[:, None].ndim\n",
      "/opt/anaconda3/envs/venv/lib/python3.7/site-packages/matplotlib/axes/_base.py:276: FutureWarning: Support for multi-dimensional indexing (e.g. `obj[:, None]`) is deprecated and will be removed in a future version.  Convert to a numpy array before indexing instead.\n",
      "  x = x[:, np.newaxis]\n",
      "/opt/anaconda3/envs/venv/lib/python3.7/site-packages/matplotlib/axes/_base.py:278: FutureWarning: Support for multi-dimensional indexing (e.g. `obj[:, None]`) is deprecated and will be removed in a future version.  Convert to a numpy array before indexing instead.\n",
      "  y = y[:, np.newaxis]\n"
     ]
    },
    {
     "data": {
      "image/png": "[encoded data removed]",
      "text/plain": [
       "<Figure size 432x288 with 1 Axes>"
      ]
     },
     "metadata": {
      "needs_background": "light"
     },
     "output_type": "display_data"
    }
   ],
   "source": [
    "plt.scatter(x, y)\n",
    "plt.plot(x, m*x + b, 'r-', label = 'y = ' + str(m)+ 'x + ' + str(b))\n",
    "plt.xlabel(\"Rate Hike/Cut\")\n",
    "plt.ylabel(\"Change in price of 30 day Fed Funds Future\")\n",
    "plt.title(\"Effect of Rate Hike/Cut on Price of 30 day Fed Funds Future\")\n",
    "plt.legend()\n",
    "\n",
    "plt.savefig('rate_change_on_FFF.png', dpi=800)"
   ]
  },
  {
   "cell_type": "code",
   "execution_count": 48,
   "metadata": {},
   "outputs": [
    {
     "data": {
      "text/html": [
       "<div>\n",
       "<style scoped>\n",
       "    .dataframe tbody tr th:only-of-type {\n",
       "        vertical-align: middle;\n",
       "    }\n",
       "\n",
       "    .dataframe tbody tr th {\n",
       "        vertical-align: top;\n",
       "    }\n",
       "\n",
       "    .dataframe thead th {\n",
       "        text-align: right;\n",
       "    }\n",
       "</style>\n",
       "<table border=\"1\" class=\"dataframe\">\n",
       "  <thead>\n",
       "    <tr style=\"text-align: right;\">\n",
       "      <th></th>\n",
       "      <th>Converted_Datetime</th>\n",
       "      <th>Rate</th>\n",
       "      <th>DayofWeek</th>\n",
       "      <th>rowinpriceoffutures</th>\n",
       "      <th>Day before</th>\n",
       "      <th>Day after</th>\n",
       "      <th>Ratedaybefore</th>\n",
       "      <th>Ratedayafter</th>\n",
       "      <th>difference</th>\n",
       "      <th>Rate Changes</th>\n",
       "    </tr>\n",
       "  </thead>\n",
       "  <tbody>\n",
       "    <tr>\n",
       "      <th>0</th>\n",
       "      <td>2020-03-15</td>\n",
       "      <td>0.125</td>\n",
       "      <td>6</td>\n",
       "      <td>7913</td>\n",
       "      <td>2020-03-13</td>\n",
       "      <td>2020-03-16</td>\n",
       "      <td>99.840</td>\n",
       "      <td>99.8950</td>\n",
       "      <td>0.0550</td>\n",
       "      <td>-1.00</td>\n",
       "    </tr>\n",
       "    <tr>\n",
       "      <th>1</th>\n",
       "      <td>2020-03-03</td>\n",
       "      <td>1.125</td>\n",
       "      <td>1</td>\n",
       "      <td>7905</td>\n",
       "      <td>2020-03-02</td>\n",
       "      <td>2020-03-04</td>\n",
       "      <td>98.910</td>\n",
       "      <td>99.2200</td>\n",
       "      <td>0.3100</td>\n",
       "      <td>-0.50</td>\n",
       "    </tr>\n",
       "    <tr>\n",
       "      <th>2</th>\n",
       "      <td>2020-01-28</td>\n",
       "      <td>1.625</td>\n",
       "      <td>1</td>\n",
       "      <td>7881</td>\n",
       "      <td>2020-01-27</td>\n",
       "      <td>2020-01-29</td>\n",
       "      <td>98.425</td>\n",
       "      <td>98.4090</td>\n",
       "      <td>-0.0160</td>\n",
       "      <td>0.00</td>\n",
       "    </tr>\n",
       "    <tr>\n",
       "      <th>3</th>\n",
       "      <td>2019-12-10</td>\n",
       "      <td>1.625</td>\n",
       "      <td>1</td>\n",
       "      <td>7849</td>\n",
       "      <td>2019-12-09</td>\n",
       "      <td>2019-12-11</td>\n",
       "      <td>98.440</td>\n",
       "      <td>98.4350</td>\n",
       "      <td>-0.0050</td>\n",
       "      <td>0.00</td>\n",
       "    </tr>\n",
       "    <tr>\n",
       "      <th>4</th>\n",
       "      <td>2019-10-30</td>\n",
       "      <td>1.625</td>\n",
       "      <td>2</td>\n",
       "      <td>7821</td>\n",
       "      <td>2019-10-29</td>\n",
       "      <td>2019-10-31</td>\n",
       "      <td>98.407</td>\n",
       "      <td>98.4425</td>\n",
       "      <td>0.0355</td>\n",
       "      <td>-0.25</td>\n",
       "    </tr>\n",
       "    <tr>\n",
       "      <th>...</th>\n",
       "      <td>...</td>\n",
       "      <td>...</td>\n",
       "      <td>...</td>\n",
       "      <td>...</td>\n",
       "      <td>...</td>\n",
       "      <td>...</td>\n",
       "      <td>...</td>\n",
       "      <td>...</td>\n",
       "      <td>...</td>\n",
       "      <td>...</td>\n",
       "    </tr>\n",
       "    <tr>\n",
       "      <th>141</th>\n",
       "      <td>2003-05-06</td>\n",
       "      <td>1.250</td>\n",
       "      <td>1</td>\n",
       "      <td>3671</td>\n",
       "      <td>2003-05-05</td>\n",
       "      <td>2003-05-07</td>\n",
       "      <td>98.825</td>\n",
       "      <td>98.7900</td>\n",
       "      <td>-0.0350</td>\n",
       "      <td>0.00</td>\n",
       "    </tr>\n",
       "    <tr>\n",
       "      <th>142</th>\n",
       "      <td>2003-03-18</td>\n",
       "      <td>1.250</td>\n",
       "      <td>1</td>\n",
       "      <td>3637</td>\n",
       "      <td>2003-03-17</td>\n",
       "      <td>2003-03-19</td>\n",
       "      <td>98.830</td>\n",
       "      <td>98.8050</td>\n",
       "      <td>-0.0250</td>\n",
       "      <td>0.00</td>\n",
       "    </tr>\n",
       "    <tr>\n",
       "      <th>143</th>\n",
       "      <td>2003-01-29</td>\n",
       "      <td>1.250</td>\n",
       "      <td>2</td>\n",
       "      <td>3604</td>\n",
       "      <td>2003-01-28</td>\n",
       "      <td>2003-01-30</td>\n",
       "      <td>98.780</td>\n",
       "      <td>98.7820</td>\n",
       "      <td>0.0020</td>\n",
       "      <td>0.00</td>\n",
       "    </tr>\n",
       "    <tr>\n",
       "      <th>144</th>\n",
       "      <td>2003-01-09</td>\n",
       "      <td>1.250</td>\n",
       "      <td>3</td>\n",
       "      <td>3591</td>\n",
       "      <td>2003-01-08</td>\n",
       "      <td>2003-01-10</td>\n",
       "      <td>98.775</td>\n",
       "      <td>98.7700</td>\n",
       "      <td>-0.0050</td>\n",
       "      <td>0.00</td>\n",
       "    </tr>\n",
       "    <tr>\n",
       "      <th>145</th>\n",
       "      <td>2002-12-10</td>\n",
       "      <td>1.250</td>\n",
       "      <td>1</td>\n",
       "      <td>3571</td>\n",
       "      <td>2002-12-09</td>\n",
       "      <td>2002-12-11</td>\n",
       "      <td>98.765</td>\n",
       "      <td>98.7650</td>\n",
       "      <td>0.0000</td>\n",
       "      <td>0.00</td>\n",
       "    </tr>\n",
       "  </tbody>\n",
       "</table>\n",
       "<p>146 rows × 10 columns</p>\n",
       "</div>"
      ],
      "text/plain": [
       "    Converted_Datetime   Rate  DayofWeek  rowinpriceoffutures Day before  \\\n",
       "0           2020-03-15  0.125          6                 7913 2020-03-13   \n",
       "1           2020-03-03  1.125          1                 7905 2020-03-02   \n",
       "2           2020-01-28  1.625          1                 7881 2020-01-27   \n",
       "3           2019-12-10  1.625          1                 7849 2019-12-09   \n",
       "4           2019-10-30  1.625          2                 7821 2019-10-29   \n",
       "..                 ...    ...        ...                  ...        ...   \n",
       "141         2003-05-06  1.250          1                 3671 2003-05-05   \n",
       "142         2003-03-18  1.250          1                 3637 2003-03-17   \n",
       "143         2003-01-29  1.250          2                 3604 2003-01-28   \n",
       "144         2003-01-09  1.250          3                 3591 2003-01-08   \n",
       "145         2002-12-10  1.250          1                 3571 2002-12-09   \n",
       "\n",
       "     Day after  Ratedaybefore  Ratedayafter  difference  Rate Changes  \n",
       "0   2020-03-16         99.840       99.8950      0.0550         -1.00  \n",
       "1   2020-03-04         98.910       99.2200      0.3100         -0.50  \n",
       "2   2020-01-29         98.425       98.4090     -0.0160          0.00  \n",
       "3   2019-12-11         98.440       98.4350     -0.0050          0.00  \n",
       "4   2019-10-31         98.407       98.4425      0.0355         -0.25  \n",
       "..         ...            ...           ...         ...           ...  \n",
       "141 2003-05-07         98.825       98.7900     -0.0350          0.00  \n",
       "142 2003-03-19         98.830       98.8050     -0.0250          0.00  \n",
       "143 2003-01-30         98.780       98.7820      0.0020          0.00  \n",
       "144 2003-01-10         98.775       98.7700     -0.0050          0.00  \n",
       "145 2002-12-11         98.765       98.7650      0.0000          0.00  \n",
       "\n",
       "[146 rows x 10 columns]"
      ]
     },
     "execution_count": 48,
     "metadata": {},
     "output_type": "execute_result"
    }
   ],
   "source": [
    "massivechanges"
   ]
  },
  {
   "cell_type": "markdown",
   "metadata": {},
   "source": [
    "## difference (before - before) on Rate Change"
   ]
  },
  {
   "cell_type": "code",
   "execution_count": 49,
   "metadata": {},
   "outputs": [],
   "source": [
    "retList = []\n",
    "for i in range(len(massivechanges['Ratedaybefore'])):\n",
    "    if i == len(massivechanges['Ratedaybefore'])-1:\n",
    "        retList.append(0)\n",
    "    else:\n",
    "        retList.append(massivechanges['Ratedaybefore'][i+1] - massivechanges['Ratedaybefore'][i])\n",
    "massivechanges['difference type 2'] = pd.Series(retList)"
   ]
  },
  {
   "cell_type": "code",
   "execution_count": 50,
   "metadata": {},
   "outputs": [
    {
     "data": {
      "text/html": [
       "<div>\n",
       "<style scoped>\n",
       "    .dataframe tbody tr th:only-of-type {\n",
       "        vertical-align: middle;\n",
       "    }\n",
       "\n",
       "    .dataframe tbody tr th {\n",
       "        vertical-align: top;\n",
       "    }\n",
       "\n",
       "    .dataframe thead th {\n",
       "        text-align: right;\n",
       "    }\n",
       "</style>\n",
       "<table border=\"1\" class=\"dataframe\">\n",
       "  <thead>\n",
       "    <tr style=\"text-align: right;\">\n",
       "      <th></th>\n",
       "      <th>Converted_Datetime</th>\n",
       "      <th>Rate</th>\n",
       "      <th>DayofWeek</th>\n",
       "      <th>rowinpriceoffutures</th>\n",
       "      <th>Day before</th>\n",
       "      <th>Day after</th>\n",
       "      <th>Ratedaybefore</th>\n",
       "      <th>Ratedayafter</th>\n",
       "      <th>difference</th>\n",
       "      <th>Rate Changes</th>\n",
       "      <th>difference type 2</th>\n",
       "    </tr>\n",
       "  </thead>\n",
       "  <tbody>\n",
       "    <tr>\n",
       "      <th>0</th>\n",
       "      <td>2020-03-15</td>\n",
       "      <td>0.125</td>\n",
       "      <td>6</td>\n",
       "      <td>7913</td>\n",
       "      <td>2020-03-13</td>\n",
       "      <td>2020-03-16</td>\n",
       "      <td>99.840</td>\n",
       "      <td>99.8950</td>\n",
       "      <td>0.0550</td>\n",
       "      <td>-1.00</td>\n",
       "      <td>-0.930</td>\n",
       "    </tr>\n",
       "    <tr>\n",
       "      <th>1</th>\n",
       "      <td>2020-03-03</td>\n",
       "      <td>1.125</td>\n",
       "      <td>1</td>\n",
       "      <td>7905</td>\n",
       "      <td>2020-03-02</td>\n",
       "      <td>2020-03-04</td>\n",
       "      <td>98.910</td>\n",
       "      <td>99.2200</td>\n",
       "      <td>0.3100</td>\n",
       "      <td>-0.50</td>\n",
       "      <td>-0.485</td>\n",
       "    </tr>\n",
       "    <tr>\n",
       "      <th>2</th>\n",
       "      <td>2020-01-28</td>\n",
       "      <td>1.625</td>\n",
       "      <td>1</td>\n",
       "      <td>7881</td>\n",
       "      <td>2020-01-27</td>\n",
       "      <td>2020-01-29</td>\n",
       "      <td>98.425</td>\n",
       "      <td>98.4090</td>\n",
       "      <td>-0.0160</td>\n",
       "      <td>0.00</td>\n",
       "      <td>0.015</td>\n",
       "    </tr>\n",
       "    <tr>\n",
       "      <th>3</th>\n",
       "      <td>2019-12-10</td>\n",
       "      <td>1.625</td>\n",
       "      <td>1</td>\n",
       "      <td>7849</td>\n",
       "      <td>2019-12-09</td>\n",
       "      <td>2019-12-11</td>\n",
       "      <td>98.440</td>\n",
       "      <td>98.4350</td>\n",
       "      <td>-0.0050</td>\n",
       "      <td>0.00</td>\n",
       "      <td>-0.033</td>\n",
       "    </tr>\n",
       "    <tr>\n",
       "      <th>4</th>\n",
       "      <td>2019-10-30</td>\n",
       "      <td>1.625</td>\n",
       "      <td>2</td>\n",
       "      <td>7821</td>\n",
       "      <td>2019-10-29</td>\n",
       "      <td>2019-10-31</td>\n",
       "      <td>98.407</td>\n",
       "      <td>98.4425</td>\n",
       "      <td>0.0355</td>\n",
       "      <td>-0.25</td>\n",
       "      <td>-0.047</td>\n",
       "    </tr>\n",
       "    <tr>\n",
       "      <th>...</th>\n",
       "      <td>...</td>\n",
       "      <td>...</td>\n",
       "      <td>...</td>\n",
       "      <td>...</td>\n",
       "      <td>...</td>\n",
       "      <td>...</td>\n",
       "      <td>...</td>\n",
       "      <td>...</td>\n",
       "      <td>...</td>\n",
       "      <td>...</td>\n",
       "      <td>...</td>\n",
       "    </tr>\n",
       "    <tr>\n",
       "      <th>141</th>\n",
       "      <td>2003-05-06</td>\n",
       "      <td>1.250</td>\n",
       "      <td>1</td>\n",
       "      <td>3671</td>\n",
       "      <td>2003-05-05</td>\n",
       "      <td>2003-05-07</td>\n",
       "      <td>98.825</td>\n",
       "      <td>98.7900</td>\n",
       "      <td>-0.0350</td>\n",
       "      <td>0.00</td>\n",
       "      <td>0.005</td>\n",
       "    </tr>\n",
       "    <tr>\n",
       "      <th>142</th>\n",
       "      <td>2003-03-18</td>\n",
       "      <td>1.250</td>\n",
       "      <td>1</td>\n",
       "      <td>3637</td>\n",
       "      <td>2003-03-17</td>\n",
       "      <td>2003-03-19</td>\n",
       "      <td>98.830</td>\n",
       "      <td>98.8050</td>\n",
       "      <td>-0.0250</td>\n",
       "      <td>0.00</td>\n",
       "      <td>-0.050</td>\n",
       "    </tr>\n",
       "    <tr>\n",
       "      <th>143</th>\n",
       "      <td>2003-01-29</td>\n",
       "      <td>1.250</td>\n",
       "      <td>2</td>\n",
       "      <td>3604</td>\n",
       "      <td>2003-01-28</td>\n",
       "      <td>2003-01-30</td>\n",
       "      <td>98.780</td>\n",
       "      <td>98.7820</td>\n",
       "      <td>0.0020</td>\n",
       "      <td>0.00</td>\n",
       "      <td>-0.005</td>\n",
       "    </tr>\n",
       "    <tr>\n",
       "      <th>144</th>\n",
       "      <td>2003-01-09</td>\n",
       "      <td>1.250</td>\n",
       "      <td>3</td>\n",
       "      <td>3591</td>\n",
       "      <td>2003-01-08</td>\n",
       "      <td>2003-01-10</td>\n",
       "      <td>98.775</td>\n",
       "      <td>98.7700</td>\n",
       "      <td>-0.0050</td>\n",
       "      <td>0.00</td>\n",
       "      <td>-0.010</td>\n",
       "    </tr>\n",
       "    <tr>\n",
       "      <th>145</th>\n",
       "      <td>2002-12-10</td>\n",
       "      <td>1.250</td>\n",
       "      <td>1</td>\n",
       "      <td>3571</td>\n",
       "      <td>2002-12-09</td>\n",
       "      <td>2002-12-11</td>\n",
       "      <td>98.765</td>\n",
       "      <td>98.7650</td>\n",
       "      <td>0.0000</td>\n",
       "      <td>0.00</td>\n",
       "      <td>0.000</td>\n",
       "    </tr>\n",
       "  </tbody>\n",
       "</table>\n",
       "<p>146 rows × 11 columns</p>\n",
       "</div>"
      ],
      "text/plain": [
       "    Converted_Datetime   Rate  DayofWeek  rowinpriceoffutures Day before  \\\n",
       "0           2020-03-15  0.125          6                 7913 2020-03-13   \n",
       "1           2020-03-03  1.125          1                 7905 2020-03-02   \n",
       "2           2020-01-28  1.625          1                 7881 2020-01-27   \n",
       "3           2019-12-10  1.625          1                 7849 2019-12-09   \n",
       "4           2019-10-30  1.625          2                 7821 2019-10-29   \n",
       "..                 ...    ...        ...                  ...        ...   \n",
       "141         2003-05-06  1.250          1                 3671 2003-05-05   \n",
       "142         2003-03-18  1.250          1                 3637 2003-03-17   \n",
       "143         2003-01-29  1.250          2                 3604 2003-01-28   \n",
       "144         2003-01-09  1.250          3                 3591 2003-01-08   \n",
       "145         2002-12-10  1.250          1                 3571 2002-12-09   \n",
       "\n",
       "     Day after  Ratedaybefore  Ratedayafter  difference  Rate Changes  \\\n",
       "0   2020-03-16         99.840       99.8950      0.0550         -1.00   \n",
       "1   2020-03-04         98.910       99.2200      0.3100         -0.50   \n",
       "2   2020-01-29         98.425       98.4090     -0.0160          0.00   \n",
       "3   2019-12-11         98.440       98.4350     -0.0050          0.00   \n",
       "4   2019-10-31         98.407       98.4425      0.0355         -0.25   \n",
       "..         ...            ...           ...         ...           ...   \n",
       "141 2003-05-07         98.825       98.7900     -0.0350          0.00   \n",
       "142 2003-03-19         98.830       98.8050     -0.0250          0.00   \n",
       "143 2003-01-30         98.780       98.7820      0.0020          0.00   \n",
       "144 2003-01-10         98.775       98.7700     -0.0050          0.00   \n",
       "145 2002-12-11         98.765       98.7650      0.0000          0.00   \n",
       "\n",
       "     difference type 2  \n",
       "0               -0.930  \n",
       "1               -0.485  \n",
       "2                0.015  \n",
       "3               -0.033  \n",
       "4               -0.047  \n",
       "..                 ...  \n",
       "141              0.005  \n",
       "142             -0.050  \n",
       "143             -0.005  \n",
       "144             -0.010  \n",
       "145              0.000  \n",
       "\n",
       "[146 rows x 11 columns]"
      ]
     },
     "execution_count": 50,
     "metadata": {},
     "output_type": "execute_result"
    }
   ],
   "source": [
    "massivechanges"
   ]
  },
  {
   "cell_type": "code",
   "execution_count": 51,
   "metadata": {},
   "outputs": [
    {
     "data": {
      "text/plain": [
       "<matplotlib.axes._subplots.AxesSubplot at 0x1a2667d7d0>"
      ]
     },
     "execution_count": 51,
     "metadata": {},
     "output_type": "execute_result"
    },
    {
     "data": {
      "image/png": "[encoded data removed]",
      "text/plain": [
       "<Figure size 432x288 with 1 Axes>"
      ]
     },
     "metadata": {
      "needs_background": "light"
     },
     "output_type": "display_data"
    }
   ],
   "source": [
    "sns.scatterplot(x='difference type 2', y='Rate Changes', data=massivechanges)"
   ]
  },
  {
   "cell_type": "code",
   "execution_count": 52,
   "metadata": {},
   "outputs": [],
   "source": [
    "x_np = (massivechanges['difference type 2']).to_numpy()\n",
    "y_np = massivechanges['Rate Changes'].to_numpy()"
   ]
  },
  {
   "cell_type": "code",
   "execution_count": 53,
   "metadata": {},
   "outputs": [],
   "source": [
    "m, b = np.polyfit(x_np, y_np, 1)"
   ]
  },
  {
   "cell_type": "code",
   "execution_count": 54,
   "metadata": {
    "scrolled": true
   },
   "outputs": [
    {
     "name": "stderr",
     "output_type": "stream",
     "text": [
      "/opt/anaconda3/envs/venv/lib/python3.7/site-packages/matplotlib/cbook/__init__.py:1402: FutureWarning: Support for multi-dimensional indexing (e.g. `obj[:, None]`) is deprecated and will be removed in a future version.  Convert to a numpy array before indexing instead.\n",
      "  ndim = x[:, None].ndim\n",
      "/opt/anaconda3/envs/venv/lib/python3.7/site-packages/matplotlib/axes/_base.py:276: FutureWarning: Support for multi-dimensional indexing (e.g. `obj[:, None]`) is deprecated and will be removed in a future version.  Convert to a numpy array before indexing instead.\n",
      "  x = x[:, np.newaxis]\n",
      "/opt/anaconda3/envs/venv/lib/python3.7/site-packages/matplotlib/axes/_base.py:278: FutureWarning: Support for multi-dimensional indexing (e.g. `obj[:, None]`) is deprecated and will be removed in a future version.  Convert to a numpy array before indexing instead.\n",
      "  y = y[:, np.newaxis]\n"
     ]
    },
    {
     "data": {
      "image/png": "[encoded data removed]",
      "text/plain": [
       "<Figure size 432x288 with 1 Axes>"
      ]
     },
     "metadata": {
      "needs_background": "light"
     },
     "output_type": "display_data"
    }
   ],
   "source": [
    "sns.scatterplot(x='difference type 2', y='Rate Changes', data=massivechanges)\n",
    "plt.plot(x, m*x + b, 'r-', label = 'y = ' + str(m)+ 'x + ' + str(b))\n",
    "plt.xlabel(\"Change in Fed Funds Future between the day before the last cut/hike and the day before the FOMC\")\n",
    "plt.ylabel(\"Rate Hike/Cut\")\n",
    "plt.title(\"Effectiveness of Fed Funds future in predicting Fed Rate/Hike\")\n",
    "plt.legend()\n",
    "\n",
    "plt.savefig('FFF_on_rate_change.png', dpi=800)"
   ]
  },
  {
   "cell_type": "code",
   "execution_count": 55,
   "metadata": {},
   "outputs": [
    {
     "name": "stdout",
     "output_type": "stream",
     "text": [
      "0.854487376766616\n",
      "-0.001413877191615653\n",
      "0.6635572131965038\n",
      "7.033606424012806e-36\n"
     ]
    }
   ],
   "source": [
    "slope, intercept, r_value, p_value, std_err = stats.linregress(x_np, y_np)\n",
    "print(slope)\n",
    "print(intercept)\n",
    "print(r_value ** 2)\n",
    "print(p_value)"
   ]
  },
  {
   "cell_type": "markdown",
   "metadata": {},
   "source": [
    "## Rate change on difference (after - after)"
   ]
  },
  {
   "cell_type": "code",
   "execution_count": 56,
   "metadata": {},
   "outputs": [],
   "source": [
    "retList = []\n",
    "for i in range(len(massivechanges['Ratedayafter'])):\n",
    "    if i == len(massivechanges['Ratedayafter'])-1:\n",
    "        retList.append(0)\n",
    "    else:\n",
    "        retList.append(massivechanges['Ratedayafter'][i+1] - massivechanges['Ratedayafter'][i])\n",
    "massivechanges['difference type 3'] = pd.Series(retList)"
   ]
  },
  {
   "cell_type": "code",
   "execution_count": 57,
   "metadata": {},
   "outputs": [
    {
     "data": {
      "text/html": [
       "<div>\n",
       "<style scoped>\n",
       "    .dataframe tbody tr th:only-of-type {\n",
       "        vertical-align: middle;\n",
       "    }\n",
       "\n",
       "    .dataframe tbody tr th {\n",
       "        vertical-align: top;\n",
       "    }\n",
       "\n",
       "    .dataframe thead th {\n",
       "        text-align: right;\n",
       "    }\n",
       "</style>\n",
       "<table border=\"1\" class=\"dataframe\">\n",
       "  <thead>\n",
       "    <tr style=\"text-align: right;\">\n",
       "      <th></th>\n",
       "      <th>Converted_Datetime</th>\n",
       "      <th>Rate</th>\n",
       "      <th>DayofWeek</th>\n",
       "      <th>rowinpriceoffutures</th>\n",
       "      <th>Day before</th>\n",
       "      <th>Day after</th>\n",
       "      <th>Ratedaybefore</th>\n",
       "      <th>Ratedayafter</th>\n",
       "      <th>difference</th>\n",
       "      <th>Rate Changes</th>\n",
       "      <th>difference type 2</th>\n",
       "      <th>difference type 3</th>\n",
       "    </tr>\n",
       "  </thead>\n",
       "  <tbody>\n",
       "    <tr>\n",
       "      <th>0</th>\n",
       "      <td>2020-03-15</td>\n",
       "      <td>0.125</td>\n",
       "      <td>6</td>\n",
       "      <td>7913</td>\n",
       "      <td>2020-03-13</td>\n",
       "      <td>2020-03-16</td>\n",
       "      <td>99.840</td>\n",
       "      <td>99.8950</td>\n",
       "      <td>0.0550</td>\n",
       "      <td>-1.00</td>\n",
       "      <td>-0.930</td>\n",
       "      <td>-0.6750</td>\n",
       "    </tr>\n",
       "    <tr>\n",
       "      <th>1</th>\n",
       "      <td>2020-03-03</td>\n",
       "      <td>1.125</td>\n",
       "      <td>1</td>\n",
       "      <td>7905</td>\n",
       "      <td>2020-03-02</td>\n",
       "      <td>2020-03-04</td>\n",
       "      <td>98.910</td>\n",
       "      <td>99.2200</td>\n",
       "      <td>0.3100</td>\n",
       "      <td>-0.50</td>\n",
       "      <td>-0.485</td>\n",
       "      <td>-0.8110</td>\n",
       "    </tr>\n",
       "    <tr>\n",
       "      <th>2</th>\n",
       "      <td>2020-01-28</td>\n",
       "      <td>1.625</td>\n",
       "      <td>1</td>\n",
       "      <td>7881</td>\n",
       "      <td>2020-01-27</td>\n",
       "      <td>2020-01-29</td>\n",
       "      <td>98.425</td>\n",
       "      <td>98.4090</td>\n",
       "      <td>-0.0160</td>\n",
       "      <td>0.00</td>\n",
       "      <td>0.015</td>\n",
       "      <td>0.0260</td>\n",
       "    </tr>\n",
       "    <tr>\n",
       "      <th>3</th>\n",
       "      <td>2019-12-10</td>\n",
       "      <td>1.625</td>\n",
       "      <td>1</td>\n",
       "      <td>7849</td>\n",
       "      <td>2019-12-09</td>\n",
       "      <td>2019-12-11</td>\n",
       "      <td>98.440</td>\n",
       "      <td>98.4350</td>\n",
       "      <td>-0.0050</td>\n",
       "      <td>0.00</td>\n",
       "      <td>-0.033</td>\n",
       "      <td>0.0075</td>\n",
       "    </tr>\n",
       "    <tr>\n",
       "      <th>4</th>\n",
       "      <td>2019-10-30</td>\n",
       "      <td>1.625</td>\n",
       "      <td>2</td>\n",
       "      <td>7821</td>\n",
       "      <td>2019-10-29</td>\n",
       "      <td>2019-10-31</td>\n",
       "      <td>98.407</td>\n",
       "      <td>98.4425</td>\n",
       "      <td>0.0355</td>\n",
       "      <td>-0.25</td>\n",
       "      <td>-0.047</td>\n",
       "      <td>-0.1025</td>\n",
       "    </tr>\n",
       "    <tr>\n",
       "      <th>...</th>\n",
       "      <td>...</td>\n",
       "      <td>...</td>\n",
       "      <td>...</td>\n",
       "      <td>...</td>\n",
       "      <td>...</td>\n",
       "      <td>...</td>\n",
       "      <td>...</td>\n",
       "      <td>...</td>\n",
       "      <td>...</td>\n",
       "      <td>...</td>\n",
       "      <td>...</td>\n",
       "      <td>...</td>\n",
       "    </tr>\n",
       "    <tr>\n",
       "      <th>141</th>\n",
       "      <td>2003-05-06</td>\n",
       "      <td>1.250</td>\n",
       "      <td>1</td>\n",
       "      <td>3671</td>\n",
       "      <td>2003-05-05</td>\n",
       "      <td>2003-05-07</td>\n",
       "      <td>98.825</td>\n",
       "      <td>98.7900</td>\n",
       "      <td>-0.0350</td>\n",
       "      <td>0.00</td>\n",
       "      <td>0.005</td>\n",
       "      <td>0.0150</td>\n",
       "    </tr>\n",
       "    <tr>\n",
       "      <th>142</th>\n",
       "      <td>2003-03-18</td>\n",
       "      <td>1.250</td>\n",
       "      <td>1</td>\n",
       "      <td>3637</td>\n",
       "      <td>2003-03-17</td>\n",
       "      <td>2003-03-19</td>\n",
       "      <td>98.830</td>\n",
       "      <td>98.8050</td>\n",
       "      <td>-0.0250</td>\n",
       "      <td>0.00</td>\n",
       "      <td>-0.050</td>\n",
       "      <td>-0.0230</td>\n",
       "    </tr>\n",
       "    <tr>\n",
       "      <th>143</th>\n",
       "      <td>2003-01-29</td>\n",
       "      <td>1.250</td>\n",
       "      <td>2</td>\n",
       "      <td>3604</td>\n",
       "      <td>2003-01-28</td>\n",
       "      <td>2003-01-30</td>\n",
       "      <td>98.780</td>\n",
       "      <td>98.7820</td>\n",
       "      <td>0.0020</td>\n",
       "      <td>0.00</td>\n",
       "      <td>-0.005</td>\n",
       "      <td>-0.0120</td>\n",
       "    </tr>\n",
       "    <tr>\n",
       "      <th>144</th>\n",
       "      <td>2003-01-09</td>\n",
       "      <td>1.250</td>\n",
       "      <td>3</td>\n",
       "      <td>3591</td>\n",
       "      <td>2003-01-08</td>\n",
       "      <td>2003-01-10</td>\n",
       "      <td>98.775</td>\n",
       "      <td>98.7700</td>\n",
       "      <td>-0.0050</td>\n",
       "      <td>0.00</td>\n",
       "      <td>-0.010</td>\n",
       "      <td>-0.0050</td>\n",
       "    </tr>\n",
       "    <tr>\n",
       "      <th>145</th>\n",
       "      <td>2002-12-10</td>\n",
       "      <td>1.250</td>\n",
       "      <td>1</td>\n",
       "      <td>3571</td>\n",
       "      <td>2002-12-09</td>\n",
       "      <td>2002-12-11</td>\n",
       "      <td>98.765</td>\n",
       "      <td>98.7650</td>\n",
       "      <td>0.0000</td>\n",
       "      <td>0.00</td>\n",
       "      <td>0.000</td>\n",
       "      <td>0.0000</td>\n",
       "    </tr>\n",
       "  </tbody>\n",
       "</table>\n",
       "<p>146 rows × 12 columns</p>\n",
       "</div>"
      ],
      "text/plain": [
       "    Converted_Datetime   Rate  DayofWeek  rowinpriceoffutures Day before  \\\n",
       "0           2020-03-15  0.125          6                 7913 2020-03-13   \n",
       "1           2020-03-03  1.125          1                 7905 2020-03-02   \n",
       "2           2020-01-28  1.625          1                 7881 2020-01-27   \n",
       "3           2019-12-10  1.625          1                 7849 2019-12-09   \n",
       "4           2019-10-30  1.625          2                 7821 2019-10-29   \n",
       "..                 ...    ...        ...                  ...        ...   \n",
       "141         2003-05-06  1.250          1                 3671 2003-05-05   \n",
       "142         2003-03-18  1.250          1                 3637 2003-03-17   \n",
       "143         2003-01-29  1.250          2                 3604 2003-01-28   \n",
       "144         2003-01-09  1.250          3                 3591 2003-01-08   \n",
       "145         2002-12-10  1.250          1                 3571 2002-12-09   \n",
       "\n",
       "     Day after  Ratedaybefore  Ratedayafter  difference  Rate Changes  \\\n",
       "0   2020-03-16         99.840       99.8950      0.0550         -1.00   \n",
       "1   2020-03-04         98.910       99.2200      0.3100         -0.50   \n",
       "2   2020-01-29         98.425       98.4090     -0.0160          0.00   \n",
       "3   2019-12-11         98.440       98.4350     -0.0050          0.00   \n",
       "4   2019-10-31         98.407       98.4425      0.0355         -0.25   \n",
       "..         ...            ...           ...         ...           ...   \n",
       "141 2003-05-07         98.825       98.7900     -0.0350          0.00   \n",
       "142 2003-03-19         98.830       98.8050     -0.0250          0.00   \n",
       "143 2003-01-30         98.780       98.7820      0.0020          0.00   \n",
       "144 2003-01-10         98.775       98.7700     -0.0050          0.00   \n",
       "145 2002-12-11         98.765       98.7650      0.0000          0.00   \n",
       "\n",
       "     difference type 2  difference type 3  \n",
       "0               -0.930            -0.6750  \n",
       "1               -0.485            -0.8110  \n",
       "2                0.015             0.0260  \n",
       "3               -0.033             0.0075  \n",
       "4               -0.047            -0.1025  \n",
       "..                 ...                ...  \n",
       "141              0.005             0.0150  \n",
       "142             -0.050            -0.0230  \n",
       "143             -0.005            -0.0120  \n",
       "144             -0.010            -0.0050  \n",
       "145              0.000             0.0000  \n",
       "\n",
       "[146 rows x 12 columns]"
      ]
     },
     "execution_count": 57,
     "metadata": {},
     "output_type": "execute_result"
    }
   ],
   "source": [
    "massivechanges"
   ]
  },
  {
   "cell_type": "code",
   "execution_count": 58,
   "metadata": {},
   "outputs": [
    {
     "data": {
      "text/plain": [
       "<matplotlib.axes._subplots.AxesSubplot at 0x1a26829f90>"
      ]
     },
     "execution_count": 58,
     "metadata": {},
     "output_type": "execute_result"
    },
    {
     "data": {
      "image/png": "[encoded data removed]",
      "text/plain": [
       "<Figure size 432x288 with 1 Axes>"
      ]
     },
     "metadata": {
      "needs_background": "light"
     },
     "output_type": "display_data"
    }
   ],
   "source": [
    "sns.scatterplot(x='Rate Changes', y='difference type 3', data=massivechanges)"
   ]
  },
  {
   "cell_type": "code",
   "execution_count": 59,
   "metadata": {},
   "outputs": [],
   "source": [
    "x_np = massivechanges['Rate Changes'].to_numpy()\n",
    "y_np = (massivechanges['difference type 3']).to_numpy()"
   ]
  },
  {
   "cell_type": "code",
   "execution_count": 60,
   "metadata": {},
   "outputs": [],
   "source": [
    "m, b = np.polyfit(x_np, y_np, 1)"
   ]
  },
  {
   "cell_type": "code",
   "execution_count": 61,
   "metadata": {
    "scrolled": false
   },
   "outputs": [
    {
     "name": "stderr",
     "output_type": "stream",
     "text": [
      "/opt/anaconda3/envs/venv/lib/python3.7/site-packages/matplotlib/cbook/__init__.py:1402: FutureWarning: Support for multi-dimensional indexing (e.g. `obj[:, None]`) is deprecated and will be removed in a future version.  Convert to a numpy array before indexing instead.\n",
      "  ndim = x[:, None].ndim\n",
      "/opt/anaconda3/envs/venv/lib/python3.7/site-packages/matplotlib/axes/_base.py:276: FutureWarning: Support for multi-dimensional indexing (e.g. `obj[:, None]`) is deprecated and will be removed in a future version.  Convert to a numpy array before indexing instead.\n",
      "  x = x[:, np.newaxis]\n",
      "/opt/anaconda3/envs/venv/lib/python3.7/site-packages/matplotlib/axes/_base.py:278: FutureWarning: Support for multi-dimensional indexing (e.g. `obj[:, None]`) is deprecated and will be removed in a future version.  Convert to a numpy array before indexing instead.\n",
      "  y = y[:, np.newaxis]\n"
     ]
    },
    {
     "data": {
      "text/plain": [
       "<matplotlib.legend.Legend at 0x1a268ab190>"
      ]
     },
     "execution_count": 61,
     "metadata": {},
     "output_type": "execute_result"
    },
    {
     "data": {
      "image/png": "[encoded data removed]",
      "text/plain": [
       "<Figure size 864x864 with 1 Axes>"
      ]
     },
     "metadata": {
      "needs_background": "light"
     },
     "output_type": "display_data"
    }
   ],
   "source": [
    "fig = plt.figure(figsize=(12, 12))\n",
    "\n",
    "sns.scatterplot(x='Rate Changes', y='difference type 3', data=massivechanges)\n",
    "plt.plot(x, m*x + b, 'r-', label = 'y = ' + str(m)+ 'x + ' + str(b))\n",
    "plt.ylabel(\"Change in Fed Funds Future between the day after the last cut/hike and the day after the FOMC meeting\")\n",
    "plt.xlabel(\"Rate Hike/Cut\")\n",
    "plt.title(\"Effectiveness of Fed Rate/Hike in predicting Fed Funds Future one day after meeting\")\n",
    "plt.legend()\n",
    "\n",
    "# plt.savefig('rate_change_on_FFF_2.png', dpi=800)"
   ]
  },
  {
   "cell_type": "code",
   "execution_count": 62,
   "metadata": {},
   "outputs": [
    {
     "name": "stdout",
     "output_type": "stream",
     "text": [
      "0.7723103609129075\n",
      "-0.0017887044107737981\n",
      "0.5645045838882956\n",
      "8.927373939095176e-28\n"
     ]
    }
   ],
   "source": [
    "slope, intercept, r_value, p_value, std_err = stats.linregress(x_np, y_np)\n",
    "print(slope)\n",
    "print(intercept)\n",
    "print(r_value ** 2)\n",
    "print(p_value)"
   ]
  }
 ],
 "metadata": {
  "kernelspec": {
   "display_name": "Python 3",
   "language": "python",
   "name": "python3"
  },
  "language_info": {
   "codemirror_mode": {
    "name": "ipython",
    "version": 3
   },
   "file_extension": ".py",
   "mimetype": "text/x-python",
   "name": "python",
   "nbconvert_exporter": "python",
   "pygments_lexer": "ipython3",
   "version": "3.7.5"
  }
 },
 "nbformat": 4,
 "nbformat_minor": 2
}
